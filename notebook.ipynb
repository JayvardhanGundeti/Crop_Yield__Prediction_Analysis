{
 "cells": [
  {
   "cell_type": "code",
   "execution_count": 1,
   "id": "4876808c",
   "metadata": {},
   "outputs": [],
   "source": [
    "import pandas as pd\n",
    "import numpy as np\n",
    "import seaborn as sns\n",
    "import matplotlib.pyplot as plt\n",
    "plt.style.use(\"ggplot\")"
   ]
  },
  {
   "cell_type": "code",
   "execution_count": 2,
   "id": "4ea03595",
   "metadata": {},
   "outputs": [],
   "source": [
    "df=pd.read_csv(\"crop_data.csv\")"
   ]
  },
  {
   "cell_type": "code",
   "execution_count": 3,
   "id": "b2e7bf09",
   "metadata": {},
   "outputs": [
    {
     "data": {
      "text/html": [
       "<div>\n",
       "<style scoped>\n",
       "    .dataframe tbody tr th:only-of-type {\n",
       "        vertical-align: middle;\n",
       "    }\n",
       "\n",
       "    .dataframe tbody tr th {\n",
       "        vertical-align: top;\n",
       "    }\n",
       "\n",
       "    .dataframe thead th {\n",
       "        text-align: right;\n",
       "    }\n",
       "</style>\n",
       "<table border=\"1\" class=\"dataframe\">\n",
       "  <thead>\n",
       "    <tr style=\"text-align: right;\">\n",
       "      <th></th>\n",
       "      <th>STATE</th>\n",
       "      <th>SOIL_TYPE</th>\n",
       "      <th>N_SOIL</th>\n",
       "      <th>P_SOIL</th>\n",
       "      <th>K_SOIL</th>\n",
       "      <th>TEMPERATURE</th>\n",
       "      <th>HUMIDITY</th>\n",
       "      <th>ph</th>\n",
       "      <th>RAINFALL</th>\n",
       "      <th>CROP_PRICE</th>\n",
       "      <th>CROP</th>\n",
       "    </tr>\n",
       "  </thead>\n",
       "  <tbody>\n",
       "    <tr>\n",
       "      <th>0</th>\n",
       "      <td>Andaman and Nicobar</td>\n",
       "      <td>Sandy soil</td>\n",
       "      <td>90</td>\n",
       "      <td>42</td>\n",
       "      <td>43</td>\n",
       "      <td>20.879744</td>\n",
       "      <td>82.002744</td>\n",
       "      <td>6.502985</td>\n",
       "      <td>202.935536</td>\n",
       "      <td>7000</td>\n",
       "      <td>Amaranthus</td>\n",
       "    </tr>\n",
       "    <tr>\n",
       "      <th>1</th>\n",
       "      <td>Andaman and Nicobar</td>\n",
       "      <td>Sandy soil</td>\n",
       "      <td>85</td>\n",
       "      <td>58</td>\n",
       "      <td>41</td>\n",
       "      <td>21.770462</td>\n",
       "      <td>80.319644</td>\n",
       "      <td>7.038096</td>\n",
       "      <td>226.655537</td>\n",
       "      <td>5000</td>\n",
       "      <td>Green Banana</td>\n",
       "    </tr>\n",
       "    <tr>\n",
       "      <th>2</th>\n",
       "      <td>Andaman and Nicobar</td>\n",
       "      <td>Sandy soil</td>\n",
       "      <td>60</td>\n",
       "      <td>55</td>\n",
       "      <td>44</td>\n",
       "      <td>23.004459</td>\n",
       "      <td>82.320763</td>\n",
       "      <td>7.840207</td>\n",
       "      <td>263.964248</td>\n",
       "      <td>7000</td>\n",
       "      <td>Ladies Finger</td>\n",
       "    </tr>\n",
       "    <tr>\n",
       "      <th>3</th>\n",
       "      <td>Andaman and Nicobar</td>\n",
       "      <td>Sandy soil</td>\n",
       "      <td>74</td>\n",
       "      <td>35</td>\n",
       "      <td>40</td>\n",
       "      <td>26.491096</td>\n",
       "      <td>80.158363</td>\n",
       "      <td>6.980401</td>\n",
       "      <td>242.864034</td>\n",
       "      <td>7000</td>\n",
       "      <td>Bitter Gourd</td>\n",
       "    </tr>\n",
       "    <tr>\n",
       "      <th>4</th>\n",
       "      <td>Andaman and Nicobar</td>\n",
       "      <td>Sandy soil</td>\n",
       "      <td>78</td>\n",
       "      <td>42</td>\n",
       "      <td>42</td>\n",
       "      <td>20.130175</td>\n",
       "      <td>81.604873</td>\n",
       "      <td>7.628473</td>\n",
       "      <td>262.717340</td>\n",
       "      <td>120000</td>\n",
       "      <td>Black pepper</td>\n",
       "    </tr>\n",
       "  </tbody>\n",
       "</table>\n",
       "</div>"
      ],
      "text/plain": [
       "                 STATE   SOIL_TYPE  N_SOIL  P_SOIL  K_SOIL  TEMPERATURE  \\\n",
       "0  Andaman and Nicobar  Sandy soil      90      42      43    20.879744   \n",
       "1  Andaman and Nicobar  Sandy soil      85      58      41    21.770462   \n",
       "2  Andaman and Nicobar  Sandy soil      60      55      44    23.004459   \n",
       "3  Andaman and Nicobar  Sandy soil      74      35      40    26.491096   \n",
       "4  Andaman and Nicobar  Sandy soil      78      42      42    20.130175   \n",
       "\n",
       "    HUMIDITY        ph    RAINFALL  CROP_PRICE           CROP  \n",
       "0  82.002744  6.502985  202.935536        7000     Amaranthus  \n",
       "1  80.319644  7.038096  226.655537        5000   Green Banana  \n",
       "2  82.320763  7.840207  263.964248        7000  Ladies Finger  \n",
       "3  80.158363  6.980401  242.864034        7000   Bitter Gourd  \n",
       "4  81.604873  7.628473  262.717340      120000   Black pepper  "
      ]
     },
     "execution_count": 3,
     "metadata": {},
     "output_type": "execute_result"
    }
   ],
   "source": [
    "df.head()"
   ]
  },
  {
   "cell_type": "code",
   "execution_count": 4,
   "id": "273fab75",
   "metadata": {},
   "outputs": [
    {
     "name": "stdout",
     "output_type": "stream",
     "text": [
      "<class 'pandas.core.frame.DataFrame'>\n",
      "RangeIndex: 2200 entries, 0 to 2199\n",
      "Data columns (total 11 columns):\n",
      " #   Column       Non-Null Count  Dtype  \n",
      "---  ------       --------------  -----  \n",
      " 0   STATE        2200 non-null   object \n",
      " 1   SOIL_TYPE    2200 non-null   object \n",
      " 2   N_SOIL       2200 non-null   int64  \n",
      " 3   P_SOIL       2200 non-null   int64  \n",
      " 4   K_SOIL       2200 non-null   int64  \n",
      " 5   TEMPERATURE  2200 non-null   float64\n",
      " 6   HUMIDITY     2200 non-null   float64\n",
      " 7   ph           2200 non-null   float64\n",
      " 8   RAINFALL     2200 non-null   float64\n",
      " 9   CROP_PRICE   2200 non-null   int64  \n",
      " 10  CROP         2200 non-null   object \n",
      "dtypes: float64(4), int64(4), object(3)\n",
      "memory usage: 189.2+ KB\n"
     ]
    }
   ],
   "source": [
    "df.info()"
   ]
  },
  {
   "cell_type": "code",
   "execution_count": 5,
   "id": "af4159d2",
   "metadata": {
    "scrolled": false
   },
   "outputs": [
    {
     "data": {
      "text/plain": [
       "Index(['STATE', 'SOIL_TYPE', 'N_SOIL', 'P_SOIL', 'K_SOIL', 'TEMPERATURE',\n",
       "       'HUMIDITY', 'ph', 'RAINFALL', 'CROP_PRICE', 'CROP'],\n",
       "      dtype='object')"
      ]
     },
     "execution_count": 5,
     "metadata": {},
     "output_type": "execute_result"
    }
   ],
   "source": [
    "df.columns"
   ]
  },
  {
   "cell_type": "code",
   "execution_count": 6,
   "id": "ccf5cc18",
   "metadata": {},
   "outputs": [],
   "source": [
    "df=df.drop('CROP_PRICE',axis=1)"
   ]
  },
  {
   "cell_type": "code",
   "execution_count": 7,
   "id": "e8058723",
   "metadata": {
    "scrolled": true
   },
   "outputs": [
    {
     "name": "stdout",
     "output_type": "stream",
     "text": [
      "Num of numerical features: 7\n",
      "Num of categorical features: 3\n",
      "Num of discreate featuresL: 0\n",
      "Num of continuous featuresL: 7\n"
     ]
    }
   ],
   "source": [
    "## getting all different of features\n",
    "num_features= [feature for feature in df.columns if df[feature].dtype!='O']\n",
    "print('Num of numerical features:',len(num_features))\n",
    "cat_features=[feature for feature in df.columns if df[feature].dtype=='O']\n",
    "print('Num of categorical features:',len(cat_features))\n",
    "discreate_features=[feature for feature in num_features if len(df[feature].unique())<=25 ]\n",
    "print('Num of discreate featuresL:',len(discreate_features))\n",
    "continuous_features=[feature for feature in num_features if feature not in discreate_features]\n",
    "print('Num of continuous featuresL:',len(continuous_features))"
   ]
  },
  {
   "cell_type": "code",
   "execution_count": 8,
   "id": "68408ffe",
   "metadata": {},
   "outputs": [],
   "source": [
    "from sklearn.model_selection import train_test_split\n",
    "x=df.drop(['CROP'],axis=1)\n",
    "y=df['CROP']"
   ]
  },
  {
   "cell_type": "code",
   "execution_count": 9,
   "id": "2e4ac0eb",
   "metadata": {
    "scrolled": false
   },
   "outputs": [
    {
     "data": {
      "text/plain": [
       "array(['Amaranthus', 'Green Banana', 'Ladies Finger', 'Bitter Gourd',\n",
       "       'Black pepper', 'Bottle Gourd', 'Brinjal', 'Cabbage', 'Carrot',\n",
       "       'Cauliflower', 'Cluster beans', 'Coconut', 'Colacasia', 'Onion',\n",
       "       'Potato', 'Tomato', 'Bengal Gram', 'Jowar', 'Paddy', 'Lentil',\n",
       "       'Rice', 'Cucumber', 'Field Pea', 'French Beans', 'Green Chilli',\n",
       "       'Knool Khol', 'Pumpkin', 'Raddish', 'Black Gram', 'Green Gram',\n",
       "       'Jute', 'Maida Atta', 'Mustard', 'Wheat Atta', 'Garlic',\n",
       "       'Masur Dal', 'Ridge Gourd', 'Arecanut', 'Red Gram', 'Maize',\n",
       "       'Dry Chillies', 'Groundnut', 'Capsicum', 'Guar', 'Lemon', 'Bajra',\n",
       "       'Castor Seed', 'Coriander', 'Cowpea', 'Drumstick', 'Elephat Yam',\n",
       "       'Ginger', 'Seam', 'Methi Leaves', 'Green Onion', 'Peas cod',\n",
       "       'Pigeon Pea', 'Sponge Gourd', 'Surat Beans', 'Sweet Potato',\n",
       "       'Tinda', 'Cluster Beans', 'Cotton', 'Wheat', 'Chholia',\n",
       "       'Little Gourd', 'Round gourd', 'Leafy Vegetable', 'Mint', 'Papaya',\n",
       "       'Spinach', 'Parval', 'Banana', 'Zizyphus', 'Grapes', 'Kinnow',\n",
       "       'Peas', 'Apple', 'Orange', 'Pomegranate', 'Sapota', 'Mushrooms',\n",
       "       'Sweet Lime', 'Pineapple', 'Guava', 'Turnip', 'Squash', 'Beans',\n",
       "       'Beetroot', 'Chilly Capsicum', 'Green Avare', 'Seemebadnekai',\n",
       "       'Snakeguard', 'Suvarna Gadde', 'Water Melon', 'Copra',\n",
       "       'Amphophalus', 'Ash Gourd', 'Coconut Oil', 'Rubber', 'Cashewnuts',\n",
       "       'Pepper garbled', 'Coconut Seed', 'Long Melon', 'Tapioca',\n",
       "       'Turmeric', 'Mango', 'Amla', 'Duster Beans', 'Soyabean', 'Linseed',\n",
       "       'Niger Seed', 'Moong Dal', 'Lime', 'Musk Melon', 'Pear', 'Rajgir',\n",
       "       'Sweet Pumpkin', 'Tender Coconut', 'Chana Dal', 'Betal Leaves',\n",
       "       'Broken Rice', 'Jaggery', 'Sugar', 'Sesamum', 'Moath Dal',\n",
       "       'Corriander seed', 'Ground Nut Seed', 'Taramira', 'Tobacco',\n",
       "       'Tamarind Fruit', 'Horse Gram', 'Ragi', 'Cumbu', 'Gingelly Oil',\n",
       "       'Varagu', 'Hybrid Cumbu', 'Karamani', 'Thinai', 'Wood', 'Barley',\n",
       "       'Fish', 'Green Peas', 'Tur Dal', 'Urd Dal', 'Mustard Oil', 'Ghee',\n",
       "       'White Pumpkin', 'Plum'], dtype=object)"
      ]
     },
     "execution_count": 9,
     "metadata": {},
     "output_type": "execute_result"
    }
   ],
   "source": [
    "y.unique()"
   ]
  },
  {
   "cell_type": "code",
   "execution_count": 10,
   "id": "2cfeebf3",
   "metadata": {},
   "outputs": [
    {
     "name": "stdout",
     "output_type": "stream",
     "text": [
      "Label Mapping: {'Amaranthus': 0, 'Amla': 1, 'Amphophalus': 2, 'Apple': 3, 'Arecanut': 4, 'Ash Gourd': 5, 'Bajra': 6, 'Banana': 7, 'Barley': 8, 'Beans': 9, 'Beetroot': 10, 'Bengal Gram': 11, 'Betal Leaves': 12, 'Bitter Gourd': 13, 'Black Gram': 14, 'Black pepper': 15, 'Bottle Gourd': 16, 'Brinjal': 17, 'Broken Rice': 18, 'Cabbage': 19, 'Capsicum': 20, 'Carrot': 21, 'Cashewnuts': 22, 'Castor Seed': 23, 'Cauliflower': 24, 'Chana Dal': 25, 'Chholia': 26, 'Chilly Capsicum': 27, 'Cluster Beans': 28, 'Cluster beans': 29, 'Coconut': 30, 'Coconut Oil': 31, 'Coconut Seed': 32, 'Colacasia': 33, 'Copra': 34, 'Coriander': 35, 'Corriander seed': 36, 'Cotton': 37, 'Cowpea': 38, 'Cucumber': 39, 'Cumbu': 40, 'Drumstick': 41, 'Dry Chillies': 42, 'Duster Beans': 43, 'Elephat Yam': 44, 'Field Pea': 45, 'Fish': 46, 'French Beans': 47, 'Garlic': 48, 'Ghee': 49, 'Gingelly Oil': 50, 'Ginger': 51, 'Grapes': 52, 'Green Avare': 53, 'Green Banana': 54, 'Green Chilli': 55, 'Green Gram': 56, 'Green Onion': 57, 'Green Peas': 58, 'Ground Nut Seed': 59, 'Groundnut': 60, 'Guar': 61, 'Guava': 62, 'Horse Gram': 63, 'Hybrid Cumbu': 64, 'Jaggery': 65, 'Jowar': 66, 'Jute': 67, 'Karamani': 68, 'Kinnow': 69, 'Knool Khol': 70, 'Ladies Finger': 71, 'Leafy Vegetable': 72, 'Lemon': 73, 'Lentil': 74, 'Lime': 75, 'Linseed': 76, 'Little Gourd': 77, 'Long Melon': 78, 'Maida Atta': 79, 'Maize': 80, 'Mango': 81, 'Masur Dal': 82, 'Methi Leaves': 83, 'Mint': 84, 'Moath Dal': 85, 'Moong Dal': 86, 'Mushrooms': 87, 'Musk Melon': 88, 'Mustard': 89, 'Mustard Oil': 90, 'Niger Seed': 91, 'Onion': 92, 'Orange': 93, 'Paddy': 94, 'Papaya': 95, 'Parval': 96, 'Pear': 97, 'Peas': 98, 'Peas cod': 99, 'Pepper garbled': 100, 'Pigeon Pea': 101, 'Pineapple': 102, 'Plum': 103, 'Pomegranate': 104, 'Potato': 105, 'Pumpkin': 106, 'Raddish': 107, 'Ragi': 108, 'Rajgir': 109, 'Red Gram': 110, 'Rice': 111, 'Ridge Gourd': 112, 'Round gourd': 113, 'Rubber': 114, 'Sapota': 115, 'Seam': 116, 'Seemebadnekai': 117, 'Sesamum': 118, 'Snakeguard': 119, 'Soyabean': 120, 'Spinach': 121, 'Sponge Gourd': 122, 'Squash': 123, 'Sugar': 124, 'Surat Beans': 125, 'Suvarna Gadde': 126, 'Sweet Lime': 127, 'Sweet Potato': 128, 'Sweet Pumpkin': 129, 'Tamarind Fruit': 130, 'Tapioca': 131, 'Taramira': 132, 'Tender Coconut': 133, 'Thinai': 134, 'Tinda': 135, 'Tobacco': 136, 'Tomato': 137, 'Tur Dal': 138, 'Turmeric': 139, 'Turnip': 140, 'Urd Dal': 141, 'Varagu': 142, 'Water Melon': 143, 'Wheat': 144, 'Wheat Atta': 145, 'White Pumpkin': 146, 'Wood': 147, 'Zizyphus': 148}\n",
      "Encoded Labels: [  0  54  71 ... 105 106 137]\n"
     ]
    }
   ],
   "source": [
    "from sklearn.preprocessing import LabelEncoder\n",
    "label_encoder = LabelEncoder()\n",
    "y_encoded = label_encoder.fit_transform(y)\n",
    "# If you want to see the mapping\n",
    "label_mapping = dict(zip(label_encoder.classes_, range(len(label_encoder.classes_))))\n",
    "print(\"Label Mapping:\", label_mapping)\n",
    "\n",
    "# Display the encoded labels\n",
    "print(\"Encoded Labels:\", y_encoded)"
   ]
  },
  {
   "cell_type": "code",
   "execution_count": 11,
   "id": "18e237e9",
   "metadata": {},
   "outputs": [
    {
     "name": "stdout",
     "output_type": "stream",
     "text": [
      "<class 'pandas.core.frame.DataFrame'>\n",
      "RangeIndex: 2200 entries, 0 to 2199\n",
      "Data columns (total 9 columns):\n",
      " #   Column       Non-Null Count  Dtype  \n",
      "---  ------       --------------  -----  \n",
      " 0   STATE        2200 non-null   object \n",
      " 1   SOIL_TYPE    2200 non-null   object \n",
      " 2   N_SOIL       2200 non-null   int64  \n",
      " 3   P_SOIL       2200 non-null   int64  \n",
      " 4   K_SOIL       2200 non-null   int64  \n",
      " 5   TEMPERATURE  2200 non-null   float64\n",
      " 6   HUMIDITY     2200 non-null   float64\n",
      " 7   ph           2200 non-null   float64\n",
      " 8   RAINFALL     2200 non-null   float64\n",
      "dtypes: float64(4), int64(3), object(2)\n",
      "memory usage: 154.8+ KB\n"
     ]
    }
   ],
   "source": [
    "x.info()"
   ]
  },
  {
   "cell_type": "code",
   "execution_count": 12,
   "id": "6c14f228",
   "metadata": {
    "scrolled": true
   },
   "outputs": [],
   "source": [
    "## train test split\n",
    "from sklearn.model_selection import train_test_split\n",
    "x_train,x_test,y_train,y_test=train_test_split(x,y_encoded,test_size=0.25,random_state=42)"
   ]
  },
  {
   "cell_type": "code",
   "execution_count": 13,
   "id": "7bea0c17",
   "metadata": {
    "scrolled": false
   },
   "outputs": [
    {
     "data": {
      "text/plain": [
       "<AxesSubplot:>"
      ]
     },
     "execution_count": 13,
     "metadata": {},
     "output_type": "execute_result"
    },
    {
     "data": {
      "image/png": "[encoded data removed]",
      "text/plain": [
       "<Figure size 864x720 with 2 Axes>"
      ]
     },
     "metadata": {},
     "output_type": "display_data"
    }
   ],
   "source": [
    "## check for multicollineraity\n",
    "plt.figure(figsize=(12,10))\n",
    "corr=x_train.corr()\n",
    "sns.heatmap(corr,annot=True)"
   ]
  },
  {
   "cell_type": "code",
   "execution_count": 14,
   "id": "be7af798",
   "metadata": {},
   "outputs": [],
   "source": [
    "def correlation(dataset, threshold):\n",
    "    col_corr=set()\n",
    "    corr_matrix=dataset.corr()\n",
    "    for i in range(len(corr_matrix.columns)):\n",
    "        for j in range(i):\n",
    "            if abs(corr_matrix.iloc[i,j])>threshold:\n",
    "                colname=corr_matrix.columns[i]\n",
    "                col_corr.add(colname)\n",
    "    return col_corr"
   ]
  },
  {
   "cell_type": "code",
   "execution_count": 15,
   "id": "882d2cec",
   "metadata": {},
   "outputs": [],
   "source": [
    "## threshold--Domain expertise\n",
    "corr_f=correlation(x_train,0.85)"
   ]
  },
  {
   "cell_type": "code",
   "execution_count": 16,
   "id": "e419b1a2",
   "metadata": {},
   "outputs": [],
   "source": [
    "## drop features when correlation is more than 0.85\n",
    "x_train.drop(corr_f,axis=1,inplace=True)\n",
    "x_test.drop(corr_f,axis=1,inplace=True)"
   ]
  },
  {
   "cell_type": "code",
   "execution_count": 17,
   "id": "26be30e3",
   "metadata": {},
   "outputs": [
    {
     "data": {
      "text/plain": [
       "Index(['STATE', 'SOIL_TYPE', 'N_SOIL', 'P_SOIL', 'K_SOIL', 'TEMPERATURE',\n",
       "       'HUMIDITY', 'ph', 'RAINFALL'],\n",
       "      dtype='object')"
      ]
     },
     "execution_count": 17,
     "metadata": {},
     "output_type": "execute_result"
    }
   ],
   "source": [
    "x_train.columns"
   ]
  },
  {
   "cell_type": "code",
   "execution_count": 18,
   "id": "b01fdf7a",
   "metadata": {},
   "outputs": [],
   "source": [
    "# create column transformer with 3 types of transformer\n",
    "cat_features=['STATE', 'SOIL_TYPE']\n",
    "num_features=x.select_dtypes(exclude='object').columns\n",
    "\n",
    "from sklearn.preprocessing import OneHotEncoder, StandardScaler\n",
    "from sklearn.compose import ColumnTransformer\n",
    "\n",
    "numeric_transformer=StandardScaler()\n",
    "oh_transformer=OneHotEncoder(drop='first')\n",
    "\n",
    "preprocessor=ColumnTransformer(\n",
    "    [\n",
    "        ('OneHotEncoder',oh_transformer,cat_features),\n",
    "        ('StandardScaler',numeric_transformer,num_features)\n",
    "    ],\n",
    "    remainder='passthrough'\n",
    ")\n"
   ]
  },
  {
   "cell_type": "code",
   "execution_count": 19,
   "id": "ebdbcd79",
   "metadata": {
    "scrolled": true
   },
   "outputs": [
    {
     "data": {
      "text/plain": [
       "ColumnTransformer(remainder='passthrough',\n",
       "                  transformers=[('OneHotEncoder', OneHotEncoder(drop='first'),\n",
       "                                 ['STATE', 'SOIL_TYPE']),\n",
       "                                ('StandardScaler', StandardScaler(),\n",
       "                                 Index(['N_SOIL', 'P_SOIL', 'K_SOIL', 'TEMPERATURE', 'HUMIDITY', 'ph',\n",
       "       'RAINFALL'],\n",
       "      dtype='object'))])"
      ]
     },
     "execution_count": 19,
     "metadata": {},
     "output_type": "execute_result"
    }
   ],
   "source": [
    "preprocessor"
   ]
  },
  {
   "cell_type": "code",
   "execution_count": 20,
   "id": "7b7d7610",
   "metadata": {},
   "outputs": [],
   "source": [
    "x_train=preprocessor.fit_transform(x_train)\n",
    "x_test=preprocessor.transform(x_test)"
   ]
  },
  {
   "cell_type": "code",
   "execution_count": 21,
   "id": "05c01271",
   "metadata": {},
   "outputs": [
    {
     "data": {
      "text/html": [
       "<div>\n",
       "<style scoped>\n",
       "    .dataframe tbody tr th:only-of-type {\n",
       "        vertical-align: middle;\n",
       "    }\n",
       "\n",
       "    .dataframe tbody tr th {\n",
       "        vertical-align: top;\n",
       "    }\n",
       "\n",
       "    .dataframe thead th {\n",
       "        text-align: right;\n",
       "    }\n",
       "</style>\n",
       "<table border=\"1\" class=\"dataframe\">\n",
       "  <thead>\n",
       "    <tr style=\"text-align: right;\">\n",
       "      <th></th>\n",
       "      <th>0</th>\n",
       "    </tr>\n",
       "  </thead>\n",
       "  <tbody>\n",
       "    <tr>\n",
       "      <th>0</th>\n",
       "      <td>(0, 9)\\t1.0\\n  (0, 36)\\t1.0\\n  (0, 39)\\t-0.7...</td>\n",
       "    </tr>\n",
       "    <tr>\n",
       "      <th>1</th>\n",
       "      <td>(0, 12)\\t1.0\\n  (0, 30)\\t1.0\\n  (0, 39)\\t-0....</td>\n",
       "    </tr>\n",
       "    <tr>\n",
       "      <th>2</th>\n",
       "      <td>(0, 22)\\t1.0\\n  (0, 39)\\t0.2714721813074163\\...</td>\n",
       "    </tr>\n",
       "    <tr>\n",
       "      <th>3</th>\n",
       "      <td>(0, 9)\\t1.0\\n  (0, 36)\\t1.0\\n  (0, 39)\\t-0.6...</td>\n",
       "    </tr>\n",
       "    <tr>\n",
       "      <th>4</th>\n",
       "      <td>(0, 22)\\t1.0\\n  (0, 39)\\t-1.3101794346047857...</td>\n",
       "    </tr>\n",
       "    <tr>\n",
       "      <th>...</th>\n",
       "      <td>...</td>\n",
       "    </tr>\n",
       "    <tr>\n",
       "      <th>1645</th>\n",
       "      <td>(0, 22)\\t1.0\\n  (0, 39)\\t-1.0957181985488937...</td>\n",
       "    </tr>\n",
       "    <tr>\n",
       "      <th>1646</th>\n",
       "      <td>(0, 17)\\t1.0\\n  (0, 28)\\t1.0\\n  (0, 39)\\t1.5...</td>\n",
       "    </tr>\n",
       "    <tr>\n",
       "      <th>1647</th>\n",
       "      <td>(0, 17)\\t1.0\\n  (0, 28)\\t1.0\\n  (0, 39)\\t-1....</td>\n",
       "    </tr>\n",
       "    <tr>\n",
       "      <th>1648</th>\n",
       "      <td>(0, 19)\\t1.0\\n  (0, 31)\\t1.0\\n  (0, 39)\\t-1....</td>\n",
       "    </tr>\n",
       "    <tr>\n",
       "      <th>1649</th>\n",
       "      <td>(0, 11)\\t1.0\\n  (0, 35)\\t1.0\\n  (0, 39)\\t-0....</td>\n",
       "    </tr>\n",
       "  </tbody>\n",
       "</table>\n",
       "<p>1650 rows × 1 columns</p>\n",
       "</div>"
      ],
      "text/plain": [
       "                                                      0\n",
       "0       (0, 9)\\t1.0\\n  (0, 36)\\t1.0\\n  (0, 39)\\t-0.7...\n",
       "1       (0, 12)\\t1.0\\n  (0, 30)\\t1.0\\n  (0, 39)\\t-0....\n",
       "2       (0, 22)\\t1.0\\n  (0, 39)\\t0.2714721813074163\\...\n",
       "3       (0, 9)\\t1.0\\n  (0, 36)\\t1.0\\n  (0, 39)\\t-0.6...\n",
       "4       (0, 22)\\t1.0\\n  (0, 39)\\t-1.3101794346047857...\n",
       "...                                                 ...\n",
       "1645    (0, 22)\\t1.0\\n  (0, 39)\\t-1.0957181985488937...\n",
       "1646    (0, 17)\\t1.0\\n  (0, 28)\\t1.0\\n  (0, 39)\\t1.5...\n",
       "1647    (0, 17)\\t1.0\\n  (0, 28)\\t1.0\\n  (0, 39)\\t-1....\n",
       "1648    (0, 19)\\t1.0\\n  (0, 31)\\t1.0\\n  (0, 39)\\t-1....\n",
       "1649    (0, 11)\\t1.0\\n  (0, 35)\\t1.0\\n  (0, 39)\\t-0....\n",
       "\n",
       "[1650 rows x 1 columns]"
      ]
     },
     "execution_count": 21,
     "metadata": {},
     "output_type": "execute_result"
    }
   ],
   "source": [
    "pd.DataFrame(x_train)"
   ]
  },
  {
   "cell_type": "markdown",
   "id": "a3b12ccf",
   "metadata": {},
   "source": [
    "# MODEL TRAINING"
   ]
  },
  {
   "cell_type": "code",
   "execution_count": 22,
   "id": "1aa19756",
   "metadata": {},
   "outputs": [],
   "source": [
    "from sklearn.ensemble import RandomForestClassifier, AdaBoostClassifier, GradientBoostingClassifier\n",
    "from sklearn.tree import DecisionTreeClassifier\n",
    "from sklearn.linear_model import LogisticRegression\n",
    "from sklearn.metrics import accuracy_score, classification_report, ConfusionMatrixDisplay, precision_score, recall_score, f1_score, roc_auc_score"
   ]
  },
  {
   "cell_type": "code",
   "execution_count": 23,
   "id": "07057e5e",
   "metadata": {
    "scrolled": true
   },
   "outputs": [
    {
     "name": "stderr",
     "output_type": "stream",
     "text": [
      "C:\\jayvardhan\\lib\\site-packages\\sklearn\\metrics\\_classification.py:1318: UndefinedMetricWarning: Precision is ill-defined and being set to 0.0 in labels with no predicted samples. Use `zero_division` parameter to control this behavior.\n",
      "  _warn_prf(average, modifier, msg_start, len(result))\n",
      "C:\\jayvardhan\\lib\\site-packages\\sklearn\\metrics\\_classification.py:1318: UndefinedMetricWarning: Recall is ill-defined and being set to 0.0 in labels with no true samples. Use `zero_division` parameter to control this behavior.\n",
      "  _warn_prf(average, modifier, msg_start, len(result))\n"
     ]
    },
    {
     "name": "stdout",
     "output_type": "stream",
     "text": [
      "Random Forest\n",
      "Model performance for Training set\n",
      "Accuracy: 1.0\n",
      "F1 score: 1.0\n",
      "Precision: 1.0\n",
      "Recall: 1.0\n",
      "\n",
      "Model performance for Testing set\n",
      "Accuracy: 0.06545454545454546\n",
      "F1 score: 0.050475288791957694\n",
      "Precision: 0.048975672518067434\n",
      "Recall: 0.06545454545454546\n",
      "==============================\n"
     ]
    },
    {
     "name": "stderr",
     "output_type": "stream",
     "text": [
      "C:\\jayvardhan\\lib\\site-packages\\sklearn\\metrics\\_classification.py:1318: UndefinedMetricWarning: Precision is ill-defined and being set to 0.0 in labels with no predicted samples. Use `zero_division` parameter to control this behavior.\n",
      "  _warn_prf(average, modifier, msg_start, len(result))\n",
      "C:\\jayvardhan\\lib\\site-packages\\sklearn\\metrics\\_classification.py:1318: UndefinedMetricWarning: Precision is ill-defined and being set to 0.0 in labels with no predicted samples. Use `zero_division` parameter to control this behavior.\n",
      "  _warn_prf(average, modifier, msg_start, len(result))\n",
      "C:\\jayvardhan\\lib\\site-packages\\sklearn\\metrics\\_classification.py:1318: UndefinedMetricWarning: Recall is ill-defined and being set to 0.0 in labels with no true samples. Use `zero_division` parameter to control this behavior.\n",
      "  _warn_prf(average, modifier, msg_start, len(result))\n"
     ]
    },
    {
     "name": "stdout",
     "output_type": "stream",
     "text": [
      "AdaBoost\n",
      "Model performance for Training set\n",
      "Accuracy: 0.07636363636363637\n",
      "F1 score: 0.027324479015846084\n",
      "Precision: 0.05157741108122917\n",
      "Recall: 0.07636363636363637\n",
      "\n",
      "Model performance for Testing set\n",
      "Accuracy: 0.04909090909090909\n",
      "F1 score: 0.014764722354115686\n",
      "Precision: 0.010864409325947788\n",
      "Recall: 0.04909090909090909\n",
      "==============================\n",
      "Logistic Regression\n",
      "Model performance for Training set\n",
      "Accuracy: 0.14363636363636365\n",
      "F1 score: 0.10758426936544326\n",
      "Precision: 0.12901386677027785\n",
      "Recall: 0.14363636363636365\n",
      "\n",
      "Model performance for Testing set\n",
      "Accuracy: 0.0890909090909091\n",
      "F1 score: 0.05902023681829271\n",
      "Precision: 0.057024692197240094\n",
      "Recall: 0.0890909090909091\n",
      "==============================\n",
      "Decision Tree\n",
      "Model performance for Training set\n",
      "Accuracy: 1.0\n",
      "F1 score: 1.0\n",
      "Precision: 1.0\n",
      "Recall: 1.0\n",
      "\n",
      "Model performance for Testing set\n",
      "Accuracy: 0.04181818181818182\n",
      "F1 score: 0.03933172192679176\n",
      "Precision: 0.039629721278058874\n",
      "Recall: 0.04181818181818182\n",
      "==============================\n"
     ]
    },
    {
     "name": "stderr",
     "output_type": "stream",
     "text": [
      "C:\\jayvardhan\\lib\\site-packages\\sklearn\\metrics\\_classification.py:1318: UndefinedMetricWarning: Precision is ill-defined and being set to 0.0 in labels with no predicted samples. Use `zero_division` parameter to control this behavior.\n",
      "  _warn_prf(average, modifier, msg_start, len(result))\n",
      "C:\\jayvardhan\\lib\\site-packages\\sklearn\\metrics\\_classification.py:1318: UndefinedMetricWarning: Precision is ill-defined and being set to 0.0 in labels with no predicted samples. Use `zero_division` parameter to control this behavior.\n",
      "  _warn_prf(average, modifier, msg_start, len(result))\n",
      "C:\\jayvardhan\\lib\\site-packages\\sklearn\\metrics\\_classification.py:1318: UndefinedMetricWarning: Recall is ill-defined and being set to 0.0 in labels with no true samples. Use `zero_division` parameter to control this behavior.\n",
      "  _warn_prf(average, modifier, msg_start, len(result))\n",
      "C:\\jayvardhan\\lib\\site-packages\\sklearn\\metrics\\_classification.py:1318: UndefinedMetricWarning: Precision is ill-defined and being set to 0.0 in labels with no predicted samples. Use `zero_division` parameter to control this behavior.\n",
      "  _warn_prf(average, modifier, msg_start, len(result))\n",
      "C:\\jayvardhan\\lib\\site-packages\\sklearn\\metrics\\_classification.py:1318: UndefinedMetricWarning: Recall is ill-defined and being set to 0.0 in labels with no true samples. Use `zero_division` parameter to control this behavior.\n",
      "  _warn_prf(average, modifier, msg_start, len(result))\n"
     ]
    }
   ],
   "source": [
    "import numpy as np\n",
    "from sklearn.preprocessing import LabelBinarizer\n",
    "from sklearn.metrics import roc_auc_score\n",
    "\n",
    "# Initialize LabelBinarizer to ensure consistency in classes\n",
    "label_binarizer = LabelBinarizer()\n",
    "label_binarizer.fit(y_train)\n",
    "\n",
    "# Binarize the output\n",
    "y_train_binarized = label_binarizer.transform(y_train)\n",
    "y_test_binarized = label_binarizer.transform(y_test)\n",
    "\n",
    "models = {\n",
    "    \"Random Forest\": RandomForestClassifier(),\n",
    "    \"AdaBoost\": AdaBoostClassifier(),\n",
    "    \"Logistic Regression\": LogisticRegression(multi_class='ovr'),  # Add multi_class parameter for Logistic Regression\n",
    "    \"Decision Tree\": DecisionTreeClassifier(),\n",
    "}\n",
    "\n",
    "for i in range(len(list(models))):\n",
    "    model = list(models.values())[i]\n",
    "    model.fit(x_train, y_train)\n",
    "    \n",
    "    # Make predictions\n",
    "    y_train_pred = model.predict(x_train)\n",
    "    y_test_pred = model.predict(x_test)\n",
    "    \n",
    "    \n",
    "    \n",
    "    # Training set performance\n",
    "    model_train_accuracy = accuracy_score(y_train, y_train_pred)\n",
    "    model_train_f1 = f1_score(y_train, y_train_pred, average='weighted')\n",
    "    model_train_precision = precision_score(y_train, y_train_pred, average='weighted')\n",
    "    model_train_recall = recall_score(y_train, y_train_pred, average='weighted')\n",
    "    \n",
    "    # Testing set performance\n",
    "    model_test_accuracy = accuracy_score(y_test, y_test_pred)\n",
    "    model_test_f1 = f1_score(y_test, y_test_pred, average='weighted')\n",
    "    model_test_precision = precision_score(y_test, y_test_pred, average='weighted')\n",
    "    model_test_recall = recall_score(y_test, y_test_pred, average='weighted')\n",
    "    \n",
    "    print(list(models.keys())[i])\n",
    "    print('Model performance for Training set')\n",
    "    print('Accuracy:', model_train_accuracy)\n",
    "    print('F1 score:', model_train_f1)\n",
    "    print('Precision:', model_train_precision)\n",
    "    print('Recall:', model_train_recall)\n",
    "    print()\n",
    "    print('Model performance for Testing set')\n",
    "    print('Accuracy:', model_test_accuracy)\n",
    "    print('F1 score:', model_test_f1)\n",
    "    print('Precision:', model_test_precision)\n",
    "    print('Recall:', model_test_recall)\n",
    "    print('='*30)\n"
   ]
  },
  {
   "cell_type": "code",
   "execution_count": null,
   "id": "2a935d46",
   "metadata": {},
   "outputs": [],
   "source": []
  },
  {
   "cell_type": "code",
   "execution_count": 24,
   "id": "ae46c07b",
   "metadata": {},
   "outputs": [
    {
     "data": {
      "text/plain": [
       "ColumnTransformer(remainder='passthrough',\n",
       "                  transformers=[('OneHotEncoder', OneHotEncoder(drop='first'),\n",
       "                                 ['STATE', 'SOIL_TYPE']),\n",
       "                                ('StandardScaler', StandardScaler(),\n",
       "                                 Index(['N_SOIL', 'P_SOIL', 'K_SOIL', 'TEMPERATURE', 'HUMIDITY', 'ph',\n",
       "       'RAINFALL'],\n",
       "      dtype='object'))])"
      ]
     },
     "execution_count": 24,
     "metadata": {},
     "output_type": "execute_result"
    }
   ],
   "source": [
    "preprocessor"
   ]
  },
  {
   "cell_type": "code",
   "execution_count": 25,
   "id": "94a6116b",
   "metadata": {},
   "outputs": [],
   "source": [
    "LR=LogisticRegression()"
   ]
  },
  {
   "cell_type": "code",
   "execution_count": 26,
   "id": "9aac3e54",
   "metadata": {
    "scrolled": true
   },
   "outputs": [
    {
     "name": "stderr",
     "output_type": "stream",
     "text": [
      "C:\\jayvardhan\\lib\\site-packages\\sklearn\\linear_model\\_logistic.py:814: ConvergenceWarning: lbfgs failed to converge (status=1):\n",
      "STOP: TOTAL NO. of ITERATIONS REACHED LIMIT.\n",
      "\n",
      "Increase the number of iterations (max_iter) or scale the data as shown in:\n",
      "    https://scikit-learn.org/stable/modules/preprocessing.html\n",
      "Please also refer to the documentation for alternative solver options:\n",
      "    https://scikit-learn.org/stable/modules/linear_model.html#logistic-regression\n",
      "  n_iter_i = _check_optimize_result(\n"
     ]
    },
    {
     "data": {
      "text/plain": [
       "LogisticRegression()"
      ]
     },
     "execution_count": 26,
     "metadata": {},
     "output_type": "execute_result"
    }
   ],
   "source": [
    "LR.fit(x_train, y_train)\n",
    "    \n"
   ]
  },
  {
   "cell_type": "code",
   "execution_count": null,
   "id": "aaafd577",
   "metadata": {},
   "outputs": [],
   "source": [
    "y="
   ]
  },
  {
   "cell_type": "code",
   "execution_count": 28,
   "id": "121450ec",
   "metadata": {},
   "outputs": [],
   "source": [
    "import pickle\n",
    "pickle.dump(preprocessor,open('preprocessor.pkl','wb'))\n",
    "pickle.dump(LR,open('model.pkl','wb'))"
   ]
  },
  {
   "cell_type": "code",
   "execution_count": 29,
   "id": "eaafe508",
   "metadata": {},
   "outputs": [
    {
     "data": {
      "text/plain": [
       "['STATE',\n",
       " 'SOIL_TYPE',\n",
       " 'N_SOIL',\n",
       " 'P_SOIL',\n",
       " 'K_SOIL',\n",
       " 'TEMPERATURE',\n",
       " 'HUMIDITY',\n",
       " 'ph',\n",
       " 'RAINFALL']"
      ]
     },
     "execution_count": 29,
     "metadata": {},
     "output_type": "execute_result"
    }
   ],
   "source": [
    "['STATE', 'SOIL_TYPE', 'N_SOIL', 'P_SOIL', 'K_SOIL', 'TEMPERATURE',\n",
    "       'HUMIDITY', 'ph', 'RAINFALL']"
   ]
  },
  {
   "cell_type": "code",
   "execution_count": 30,
   "id": "8003802a",
   "metadata": {},
   "outputs": [],
   "source": [
    "y=['Gujarat','Sandy soil',2,3,4,5,6,7,5]"
   ]
  },
  {
   "cell_type": "code",
   "execution_count": 31,
   "id": "51d668b1",
   "metadata": {},
   "outputs": [
    {
     "name": "stdout",
     "output_type": "stream",
     "text": [
      "Columns expected by the preprocessor: ['OneHotEncoder__STATE_Andhra Pradesh' 'OneHotEncoder__STATE_Assam'\n",
      " 'OneHotEncoder__STATE_Chattisgarh' 'OneHotEncoder__STATE_Goa'\n",
      " 'OneHotEncoder__STATE_Gujarat' 'OneHotEncoder__STATE_Haryana'\n",
      " 'OneHotEncoder__STATE_Himachal Pradesh'\n",
      " 'OneHotEncoder__STATE_Jammu and Kashmir' 'OneHotEncoder__STATE_Karnataka'\n",
      " 'OneHotEncoder__STATE_Kerala' 'OneHotEncoder__STATE_Madhya Pradesh'\n",
      " 'OneHotEncoder__STATE_Maharashtra' 'OneHotEncoder__STATE_Manipur'\n",
      " 'OneHotEncoder__STATE_Meghalaya' 'OneHotEncoder__STATE_Nagaland'\n",
      " 'OneHotEncoder__STATE_Odisha' 'OneHotEncoder__STATE_Pondicherry'\n",
      " 'OneHotEncoder__STATE_Punjab' 'OneHotEncoder__STATE_Rajasthan'\n",
      " 'OneHotEncoder__STATE_Tamil Nadu' 'OneHotEncoder__STATE_Telangana'\n",
      " 'OneHotEncoder__STATE_Tripura' 'OneHotEncoder__STATE_Uttar Pradesh'\n",
      " 'OneHotEncoder__STATE_Uttrakhand' 'OneHotEncoder__STATE_West Bengal'\n",
      " 'OneHotEncoder__SOIL_TYPE_Black soil'\n",
      " 'OneHotEncoder__SOIL_TYPE_Clayey soils'\n",
      " 'OneHotEncoder__SOIL_TYPE_Delta alluvium'\n",
      " 'OneHotEncoder__SOIL_TYPE_Desert soil'\n",
      " 'OneHotEncoder__SOIL_TYPE_Desert soils'\n",
      " 'OneHotEncoder__SOIL_TYPE_Inceptisols'\n",
      " 'OneHotEncoder__SOIL_TYPE_Laterite soil'\n",
      " 'OneHotEncoder__SOIL_TYPE_Loamy soil'\n",
      " 'OneHotEncoder__SOIL_TYPE_Mountain soil.'\n",
      " 'OneHotEncoder__SOIL_TYPE_Red soil' 'OneHotEncoder__SOIL_TYPE_Regur soil'\n",
      " 'OneHotEncoder__SOIL_TYPE_Sandy Clay loam'\n",
      " 'OneHotEncoder__SOIL_TYPE_Sandy loam'\n",
      " 'OneHotEncoder__SOIL_TYPE_Sandy soil' 'StandardScaler__N_SOIL'\n",
      " 'StandardScaler__P_SOIL' 'StandardScaler__K_SOIL'\n",
      " 'StandardScaler__TEMPERATURE' 'StandardScaler__HUMIDITY'\n",
      " 'StandardScaler__ph' 'StandardScaler__RAINFALL']\n"
     ]
    },
    {
     "ename": "NameError",
     "evalue": "name 'input_data_df' is not defined",
     "output_type": "error",
     "traceback": [
      "\u001b[1;31m---------------------------------------------------------------------------\u001b[0m",
      "\u001b[1;31mNameError\u001b[0m                                 Traceback (most recent call last)",
      "Input \u001b[1;32mIn [31]\u001b[0m, in \u001b[0;36m<cell line: 2>\u001b[1;34m()\u001b[0m\n\u001b[0;32m      1\u001b[0m \u001b[38;5;28mprint\u001b[39m(\u001b[38;5;124m\"\u001b[39m\u001b[38;5;124mColumns expected by the preprocessor:\u001b[39m\u001b[38;5;124m\"\u001b[39m, preprocessor\u001b[38;5;241m.\u001b[39mget_feature_names_out())\n\u001b[1;32m----> 2\u001b[0m \u001b[38;5;28mprint\u001b[39m(\u001b[38;5;124m\"\u001b[39m\u001b[38;5;124mColumns in input_data_df:\u001b[39m\u001b[38;5;124m\"\u001b[39m, \u001b[43minput_data_df\u001b[49m\u001b[38;5;241m.\u001b[39mcolumns)\n",
      "\u001b[1;31mNameError\u001b[0m: name 'input_data_df' is not defined"
     ]
    }
   ],
   "source": [
    "print(\"Columns expected by the preprocessor:\", preprocessor.get_feature_names_out())\n",
    "print(\"Columns in input_data_df:\", input_data_df.columns)"
   ]
  },
  {
   "cell_type": "code",
   "execution_count": 33,
   "id": "f79fa642",
   "metadata": {},
   "outputs": [
    {
     "name": "stdout",
     "output_type": "stream",
     "text": [
      "Predictions: [13]\n"
     ]
    }
   ],
   "source": [
    "import pandas as pd\n",
    "import numpy as np\n",
    "import pickle\n",
    "\n",
    "# Load preprocessor and model\n",
    "with open('preprocessor.pkl', 'rb') as preprocessor_file:\n",
    "    preprocessor = pickle.load(preprocessor_file)\n",
    "\n",
    "with open('model.pkl', 'rb') as file:\n",
    "    model = pickle.load(file)\n",
    "\n",
    "# Example feature values for a single sample\n",
    "input_data = np.array([['Gujarat', 'Sandy soil', 5, 10, 20, 30, 60, 6.5, 120]])  # Replace with actual values\n",
    "\n",
    "# Column names should match those used in your model\n",
    "column_names = ['STATE', 'SOIL_TYPE', 'N_SOIL', 'P_SOIL', 'K_SOIL', 'TEMPERATURE',\n",
    "                'HUMIDITY', 'ph', 'RAINFALL']\n",
    "\n",
    "# Create DataFrame with the input data\n",
    "input_data_df = pd.DataFrame(input_data, columns=column_names)\n",
    "\n",
    "# Transform the input data\n",
    "processed_data = preprocessor.transform(input_data_df)\n",
    "\n",
    "# Make predictions\n",
    "predictions = model.predict(processed_data)\n",
    "\n",
    "# Output the predictions\n",
    "print(\"Predictions:\", predictions)\n"
   ]
  },
  {
   "cell_type": "code",
   "execution_count": null,
   "id": "dd558aef",
   "metadata": {},
   "outputs": [],
   "source": []
  },
  {
   "cell_type": "code",
   "execution_count": null,
   "id": "c7d254e0",
   "metadata": {},
   "outputs": [],
   "source": []
  },
  {
   "cell_type": "code",
   "execution_count": null,
   "id": "5a4477cd",
   "metadata": {},
   "outputs": [],
   "source": []
  },
  {
   "cell_type": "code",
   "execution_count": null,
   "id": "8a434e62",
   "metadata": {},
   "outputs": [],
   "source": []
  },
  {
   "cell_type": "code",
   "execution_count": 175,
   "id": "b9ca04ca",
   "metadata": {},
   "outputs": [],
   "source": [
    "def correlation(dataset, threshold):\n",
    "    col_corr=set()\n",
    "    corr_matrix=dataset.corr()\n",
    "    for i in range(len(corr_matrix.columns)):\n",
    "        for j in range(i):\n",
    "            if abs(corr_matrix.iloc[i,j])>threshold:\n",
    "                colname=corr_matrix.columns[i]\n",
    "                col_corr.add(colname)\n",
    "    return col_corr"
   ]
  },
  {
   "cell_type": "code",
   "execution_count": 176,
   "id": "3462d940",
   "metadata": {},
   "outputs": [],
   "source": [
    "## threshold--Domain expertise\n",
    "corr_f=correlation(x_train,0.85)"
   ]
  },
  {
   "cell_type": "code",
   "execution_count": 177,
   "id": "934ca772",
   "metadata": {},
   "outputs": [],
   "source": [
    "## drop features when correlation is more than 0.85\n",
    "x_train.drop(corr_f,axis=1,inplace=True)\n",
    "x_test.drop(corr_f,axis=1,inplace=True)"
   ]
  },
  {
   "cell_type": "code",
   "execution_count": 178,
   "id": "920d61a7",
   "metadata": {
    "scrolled": true
   },
   "outputs": [
    {
     "name": "stdout",
     "output_type": "stream",
     "text": [
      "Num of numerical features: 8\n",
      "Num of categorical features: 3\n",
      "Num of discreate featuresL: 0\n",
      "Num of continuous featuresL: 8\n"
     ]
    }
   ],
   "source": [
    "## getting all different of features\n",
    "num_features= [feature for feature in df.columns if df[feature].dtype!='O']\n",
    "print('Num of numerical features:',len(num_features))\n",
    "cat_features=[feature for feature in df.columns if df[feature].dtype=='O']\n",
    "print('Num of categorical features:',len(cat_features))\n",
    "discreate_features=[feature for feature in num_features if len(df[feature].unique())<=25 ]\n",
    "print('Num of discreate featuresL:',len(discreate_features))\n",
    "continuous_features=[feature for feature in num_features if feature not in discreate_features]\n",
    "print('Num of continuous featuresL:',len(continuous_features))"
   ]
  },
  {
   "cell_type": "code",
   "execution_count": 179,
   "id": "8cc0c1bf",
   "metadata": {},
   "outputs": [
    {
     "data": {
      "text/plain": [
       "['STATE', 'SOIL_TYPE', 'CROP']"
      ]
     },
     "execution_count": 179,
     "metadata": {},
     "output_type": "execute_result"
    }
   ],
   "source": [
    "cat_features"
   ]
  },
  {
   "cell_type": "code",
   "execution_count": null,
   "id": "299d48bf",
   "metadata": {},
   "outputs": [],
   "source": [
    "# create column transformer with 3 types of transformer\n",
    "cat_features=['seller_type','fuel_type','transmission_type']\n",
    "num_features=x.select_dtypes(exclude='object').columns\n",
    "\n",
    "from sklearn.preprocessing import OneHotEncoder, StandardScaler\n",
    "from sklearn.compose import ColumnTransformer\n",
    "\n",
    "numeric_transformer=StandardScaler()\n",
    "oh_transformer=OneHotEncoder(drop='first')\n",
    "\n",
    "preprocessor=ColumnTransformer(\n",
    "    [\n",
    "        ('OneHotEncoder',oh_transformer,cat_features),\n",
    "        ('StandardScaler',numeric_transformer,num_features)\n",
    "    ],\n",
    "    remainder='passthrough'\n",
    ")"
   ]
  },
  {
   "cell_type": "code",
   "execution_count": null,
   "id": "5aabf8ae",
   "metadata": {},
   "outputs": [],
   "source": []
  },
  {
   "cell_type": "code",
   "execution_count": null,
   "id": "da5333f4",
   "metadata": {},
   "outputs": [],
   "source": []
  },
  {
   "cell_type": "code",
   "execution_count": null,
   "id": "8aa8f244",
   "metadata": {},
   "outputs": [],
   "source": []
  },
  {
   "cell_type": "code",
   "execution_count": null,
   "id": "f647bdd2",
   "metadata": {},
   "outputs": [],
   "source": []
  },
  {
   "cell_type": "code",
   "execution_count": null,
   "id": "313f19ae",
   "metadata": {},
   "outputs": [],
   "source": []
  },
  {
   "cell_type": "code",
   "execution_count": null,
   "id": "b44be297",
   "metadata": {},
   "outputs": [],
   "source": []
  },
  {
   "cell_type": "code",
   "execution_count": 132,
   "id": "81adda4a",
   "metadata": {},
   "outputs": [
    {
     "data": {
      "text/html": [
       "<div>\n",
       "<style scoped>\n",
       "    .dataframe tbody tr th:only-of-type {\n",
       "        vertical-align: middle;\n",
       "    }\n",
       "\n",
       "    .dataframe tbody tr th {\n",
       "        vertical-align: top;\n",
       "    }\n",
       "\n",
       "    .dataframe thead th {\n",
       "        text-align: right;\n",
       "    }\n",
       "</style>\n",
       "<table border=\"1\" class=\"dataframe\">\n",
       "  <thead>\n",
       "    <tr style=\"text-align: right;\">\n",
       "      <th></th>\n",
       "      <th>STATE</th>\n",
       "      <th>SOIL_TYPE</th>\n",
       "      <th>N_SOIL</th>\n",
       "      <th>P_SOIL</th>\n",
       "      <th>K_SOIL</th>\n",
       "      <th>TEMPERATURE</th>\n",
       "      <th>ph</th>\n",
       "      <th>RAINFALL</th>\n",
       "      <th>CROP_PRICE</th>\n",
       "      <th>CROP</th>\n",
       "    </tr>\n",
       "  </thead>\n",
       "  <tbody>\n",
       "    <tr>\n",
       "      <th>0</th>\n",
       "      <td>Andaman and Nicobar</td>\n",
       "      <td>Sandy soil</td>\n",
       "      <td>90</td>\n",
       "      <td>42</td>\n",
       "      <td>43</td>\n",
       "      <td>20.879744</td>\n",
       "      <td>6.502985</td>\n",
       "      <td>202.935536</td>\n",
       "      <td>7000</td>\n",
       "      <td>Amaranthus</td>\n",
       "    </tr>\n",
       "    <tr>\n",
       "      <th>1</th>\n",
       "      <td>Andaman and Nicobar</td>\n",
       "      <td>Sandy soil</td>\n",
       "      <td>85</td>\n",
       "      <td>58</td>\n",
       "      <td>41</td>\n",
       "      <td>21.770462</td>\n",
       "      <td>7.038096</td>\n",
       "      <td>226.655537</td>\n",
       "      <td>5000</td>\n",
       "      <td>Green Banana</td>\n",
       "    </tr>\n",
       "    <tr>\n",
       "      <th>2</th>\n",
       "      <td>Andaman and Nicobar</td>\n",
       "      <td>Sandy soil</td>\n",
       "      <td>60</td>\n",
       "      <td>55</td>\n",
       "      <td>44</td>\n",
       "      <td>23.004459</td>\n",
       "      <td>7.840207</td>\n",
       "      <td>263.964248</td>\n",
       "      <td>7000</td>\n",
       "      <td>Ladies Finger</td>\n",
       "    </tr>\n",
       "    <tr>\n",
       "      <th>3</th>\n",
       "      <td>Andaman and Nicobar</td>\n",
       "      <td>Sandy soil</td>\n",
       "      <td>74</td>\n",
       "      <td>35</td>\n",
       "      <td>40</td>\n",
       "      <td>26.491096</td>\n",
       "      <td>6.980401</td>\n",
       "      <td>242.864034</td>\n",
       "      <td>7000</td>\n",
       "      <td>Bitter Gourd</td>\n",
       "    </tr>\n",
       "    <tr>\n",
       "      <th>4</th>\n",
       "      <td>Andaman and Nicobar</td>\n",
       "      <td>Sandy soil</td>\n",
       "      <td>78</td>\n",
       "      <td>42</td>\n",
       "      <td>42</td>\n",
       "      <td>20.130175</td>\n",
       "      <td>7.628473</td>\n",
       "      <td>262.717340</td>\n",
       "      <td>120000</td>\n",
       "      <td>Black pepper</td>\n",
       "    </tr>\n",
       "  </tbody>\n",
       "</table>\n",
       "</div>"
      ],
      "text/plain": [
       "                 STATE   SOIL_TYPE  N_SOIL  P_SOIL  K_SOIL  TEMPERATURE  \\\n",
       "0  Andaman and Nicobar  Sandy soil      90      42      43    20.879744   \n",
       "1  Andaman and Nicobar  Sandy soil      85      58      41    21.770462   \n",
       "2  Andaman and Nicobar  Sandy soil      60      55      44    23.004459   \n",
       "3  Andaman and Nicobar  Sandy soil      74      35      40    26.491096   \n",
       "4  Andaman and Nicobar  Sandy soil      78      42      42    20.130175   \n",
       "\n",
       "         ph    RAINFALL  CROP_PRICE           CROP  \n",
       "0  6.502985  202.935536        7000     Amaranthus  \n",
       "1  7.038096  226.655537        5000   Green Banana  \n",
       "2  7.840207  263.964248        7000  Ladies Finger  \n",
       "3  6.980401  242.864034        7000   Bitter Gourd  \n",
       "4  7.628473  262.717340      120000   Black pepper  "
      ]
     },
     "execution_count": 132,
     "metadata": {},
     "output_type": "execute_result"
    }
   ],
   "source": [
    "df.head()"
   ]
  },
  {
   "cell_type": "code",
   "execution_count": 133,
   "id": "e05519dc",
   "metadata": {},
   "outputs": [
    {
     "name": "stdout",
     "output_type": "stream",
     "text": [
      "<class 'pandas.core.frame.DataFrame'>\n",
      "RangeIndex: 2200 entries, 0 to 2199\n",
      "Data columns (total 10 columns):\n",
      " #   Column       Non-Null Count  Dtype  \n",
      "---  ------       --------------  -----  \n",
      " 0   STATE        2200 non-null   object \n",
      " 1   SOIL_TYPE    2200 non-null   object \n",
      " 2   N_SOIL       2200 non-null   int64  \n",
      " 3   P_SOIL       2200 non-null   int64  \n",
      " 4   K_SOIL       2200 non-null   int64  \n",
      " 5   TEMPERATURE  2200 non-null   float64\n",
      " 6   ph           2200 non-null   float64\n",
      " 7   RAINFALL     2200 non-null   float64\n",
      " 8   CROP_PRICE   2200 non-null   int64  \n",
      " 9   CROP         2200 non-null   object \n",
      "dtypes: float64(3), int64(4), object(3)\n",
      "memory usage: 172.0+ KB\n"
     ]
    }
   ],
   "source": [
    "df.info()"
   ]
  },
  {
   "cell_type": "code",
   "execution_count": 134,
   "id": "6f5d747a",
   "metadata": {},
   "outputs": [
    {
     "data": {
      "text/plain": [
       "STATE          0\n",
       "SOIL_TYPE      0\n",
       "N_SOIL         0\n",
       "P_SOIL         0\n",
       "K_SOIL         0\n",
       "TEMPERATURE    0\n",
       "ph             0\n",
       "RAINFALL       0\n",
       "CROP_PRICE     0\n",
       "CROP           0\n",
       "dtype: int64"
      ]
     },
     "execution_count": 134,
     "metadata": {},
     "output_type": "execute_result"
    }
   ],
   "source": [
    "df.isnull().sum()"
   ]
  },
  {
   "cell_type": "code",
   "execution_count": 135,
   "id": "6ccc1690",
   "metadata": {},
   "outputs": [
    {
     "data": {
      "text/plain": [
       "0"
      ]
     },
     "execution_count": 135,
     "metadata": {},
     "output_type": "execute_result"
    }
   ],
   "source": [
    "df.duplicated().sum()"
   ]
  },
  {
   "cell_type": "code",
   "execution_count": null,
   "id": "1934fc2e",
   "metadata": {},
   "outputs": [],
   "source": []
  },
  {
   "cell_type": "code",
   "execution_count": 136,
   "id": "57fd691b",
   "metadata": {},
   "outputs": [
    {
     "data": {
      "text/plain": [
       "(2200, 10)"
      ]
     },
     "execution_count": 136,
     "metadata": {},
     "output_type": "execute_result"
    }
   ],
   "source": [
    "df.shape"
   ]
  },
  {
   "cell_type": "code",
   "execution_count": 137,
   "id": "d0ddfa58",
   "metadata": {},
   "outputs": [
    {
     "data": {
      "text/html": [
       "<div>\n",
       "<style scoped>\n",
       "    .dataframe tbody tr th:only-of-type {\n",
       "        vertical-align: middle;\n",
       "    }\n",
       "\n",
       "    .dataframe tbody tr th {\n",
       "        vertical-align: top;\n",
       "    }\n",
       "\n",
       "    .dataframe thead th {\n",
       "        text-align: right;\n",
       "    }\n",
       "</style>\n",
       "<table border=\"1\" class=\"dataframe\">\n",
       "  <thead>\n",
       "    <tr style=\"text-align: right;\">\n",
       "      <th></th>\n",
       "      <th>N_SOIL</th>\n",
       "      <th>P_SOIL</th>\n",
       "      <th>K_SOIL</th>\n",
       "      <th>TEMPERATURE</th>\n",
       "      <th>ph</th>\n",
       "      <th>RAINFALL</th>\n",
       "      <th>CROP_PRICE</th>\n",
       "    </tr>\n",
       "  </thead>\n",
       "  <tbody>\n",
       "    <tr>\n",
       "      <th>count</th>\n",
       "      <td>2200.000000</td>\n",
       "      <td>2200.000000</td>\n",
       "      <td>2200.000000</td>\n",
       "      <td>2200.000000</td>\n",
       "      <td>2200.000000</td>\n",
       "      <td>2200.000000</td>\n",
       "      <td>2200.000000</td>\n",
       "    </tr>\n",
       "    <tr>\n",
       "      <th>mean</th>\n",
       "      <td>50.551818</td>\n",
       "      <td>53.362727</td>\n",
       "      <td>48.149091</td>\n",
       "      <td>25.616244</td>\n",
       "      <td>6.469480</td>\n",
       "      <td>103.463655</td>\n",
       "      <td>2689.228182</td>\n",
       "    </tr>\n",
       "    <tr>\n",
       "      <th>std</th>\n",
       "      <td>36.917334</td>\n",
       "      <td>32.985883</td>\n",
       "      <td>50.647931</td>\n",
       "      <td>5.063749</td>\n",
       "      <td>0.773938</td>\n",
       "      <td>54.958389</td>\n",
       "      <td>3710.361267</td>\n",
       "    </tr>\n",
       "    <tr>\n",
       "      <th>min</th>\n",
       "      <td>0.000000</td>\n",
       "      <td>5.000000</td>\n",
       "      <td>5.000000</td>\n",
       "      <td>8.825675</td>\n",
       "      <td>3.504752</td>\n",
       "      <td>20.211267</td>\n",
       "      <td>2.000000</td>\n",
       "    </tr>\n",
       "    <tr>\n",
       "      <th>25%</th>\n",
       "      <td>21.000000</td>\n",
       "      <td>28.000000</td>\n",
       "      <td>20.000000</td>\n",
       "      <td>22.769375</td>\n",
       "      <td>5.971693</td>\n",
       "      <td>64.551686</td>\n",
       "      <td>950.000000</td>\n",
       "    </tr>\n",
       "    <tr>\n",
       "      <th>50%</th>\n",
       "      <td>37.000000</td>\n",
       "      <td>51.000000</td>\n",
       "      <td>32.000000</td>\n",
       "      <td>25.598693</td>\n",
       "      <td>6.425045</td>\n",
       "      <td>94.867624</td>\n",
       "      <td>1825.000000</td>\n",
       "    </tr>\n",
       "    <tr>\n",
       "      <th>75%</th>\n",
       "      <td>84.250000</td>\n",
       "      <td>68.000000</td>\n",
       "      <td>49.000000</td>\n",
       "      <td>28.561654</td>\n",
       "      <td>6.923643</td>\n",
       "      <td>124.267508</td>\n",
       "      <td>3500.000000</td>\n",
       "    </tr>\n",
       "    <tr>\n",
       "      <th>max</th>\n",
       "      <td>140.000000</td>\n",
       "      <td>145.000000</td>\n",
       "      <td>205.000000</td>\n",
       "      <td>43.675493</td>\n",
       "      <td>9.935091</td>\n",
       "      <td>298.560117</td>\n",
       "      <td>120000.000000</td>\n",
       "    </tr>\n",
       "  </tbody>\n",
       "</table>\n",
       "</div>"
      ],
      "text/plain": [
       "            N_SOIL       P_SOIL       K_SOIL  TEMPERATURE           ph  \\\n",
       "count  2200.000000  2200.000000  2200.000000  2200.000000  2200.000000   \n",
       "mean     50.551818    53.362727    48.149091    25.616244     6.469480   \n",
       "std      36.917334    32.985883    50.647931     5.063749     0.773938   \n",
       "min       0.000000     5.000000     5.000000     8.825675     3.504752   \n",
       "25%      21.000000    28.000000    20.000000    22.769375     5.971693   \n",
       "50%      37.000000    51.000000    32.000000    25.598693     6.425045   \n",
       "75%      84.250000    68.000000    49.000000    28.561654     6.923643   \n",
       "max     140.000000   145.000000   205.000000    43.675493     9.935091   \n",
       "\n",
       "          RAINFALL     CROP_PRICE  \n",
       "count  2200.000000    2200.000000  \n",
       "mean    103.463655    2689.228182  \n",
       "std      54.958389    3710.361267  \n",
       "min      20.211267       2.000000  \n",
       "25%      64.551686     950.000000  \n",
       "50%      94.867624    1825.000000  \n",
       "75%     124.267508    3500.000000  \n",
       "max     298.560117  120000.000000  "
      ]
     },
     "execution_count": 137,
     "metadata": {},
     "output_type": "execute_result"
    }
   ],
   "source": [
    "df.describe()"
   ]
  },
  {
   "cell_type": "code",
   "execution_count": null,
   "id": "7de097c2",
   "metadata": {},
   "outputs": [],
   "source": []
  },
  {
   "cell_type": "code",
   "execution_count": 138,
   "id": "a9b2381d",
   "metadata": {},
   "outputs": [],
   "source": [
    "df.drop('N_SOIL', axis=1,inplace=True)"
   ]
  },
  {
   "cell_type": "code",
   "execution_count": 139,
   "id": "97bd510b",
   "metadata": {},
   "outputs": [],
   "source": [
    "df.drop('P_SOIL', axis=1,inplace=True)"
   ]
  },
  {
   "cell_type": "code",
   "execution_count": 140,
   "id": "e02f25cd",
   "metadata": {},
   "outputs": [],
   "source": [
    "df.drop('K_SOIL', axis=1,inplace=True)"
   ]
  },
  {
   "cell_type": "code",
   "execution_count": 141,
   "id": "11cd474e",
   "metadata": {},
   "outputs": [
    {
     "data": {
      "text/html": [
       "<div>\n",
       "<style scoped>\n",
       "    .dataframe tbody tr th:only-of-type {\n",
       "        vertical-align: middle;\n",
       "    }\n",
       "\n",
       "    .dataframe tbody tr th {\n",
       "        vertical-align: top;\n",
       "    }\n",
       "\n",
       "    .dataframe thead th {\n",
       "        text-align: right;\n",
       "    }\n",
       "</style>\n",
       "<table border=\"1\" class=\"dataframe\">\n",
       "  <thead>\n",
       "    <tr style=\"text-align: right;\">\n",
       "      <th></th>\n",
       "      <th>STATE</th>\n",
       "      <th>SOIL_TYPE</th>\n",
       "      <th>TEMPERATURE</th>\n",
       "      <th>ph</th>\n",
       "      <th>RAINFALL</th>\n",
       "      <th>CROP_PRICE</th>\n",
       "      <th>CROP</th>\n",
       "    </tr>\n",
       "  </thead>\n",
       "  <tbody>\n",
       "    <tr>\n",
       "      <th>0</th>\n",
       "      <td>Andaman and Nicobar</td>\n",
       "      <td>Sandy soil</td>\n",
       "      <td>20.879744</td>\n",
       "      <td>6.502985</td>\n",
       "      <td>202.935536</td>\n",
       "      <td>7000</td>\n",
       "      <td>Amaranthus</td>\n",
       "    </tr>\n",
       "    <tr>\n",
       "      <th>1</th>\n",
       "      <td>Andaman and Nicobar</td>\n",
       "      <td>Sandy soil</td>\n",
       "      <td>21.770462</td>\n",
       "      <td>7.038096</td>\n",
       "      <td>226.655537</td>\n",
       "      <td>5000</td>\n",
       "      <td>Green Banana</td>\n",
       "    </tr>\n",
       "    <tr>\n",
       "      <th>2</th>\n",
       "      <td>Andaman and Nicobar</td>\n",
       "      <td>Sandy soil</td>\n",
       "      <td>23.004459</td>\n",
       "      <td>7.840207</td>\n",
       "      <td>263.964248</td>\n",
       "      <td>7000</td>\n",
       "      <td>Ladies Finger</td>\n",
       "    </tr>\n",
       "    <tr>\n",
       "      <th>3</th>\n",
       "      <td>Andaman and Nicobar</td>\n",
       "      <td>Sandy soil</td>\n",
       "      <td>26.491096</td>\n",
       "      <td>6.980401</td>\n",
       "      <td>242.864034</td>\n",
       "      <td>7000</td>\n",
       "      <td>Bitter Gourd</td>\n",
       "    </tr>\n",
       "    <tr>\n",
       "      <th>4</th>\n",
       "      <td>Andaman and Nicobar</td>\n",
       "      <td>Sandy soil</td>\n",
       "      <td>20.130175</td>\n",
       "      <td>7.628473</td>\n",
       "      <td>262.717340</td>\n",
       "      <td>120000</td>\n",
       "      <td>Black pepper</td>\n",
       "    </tr>\n",
       "  </tbody>\n",
       "</table>\n",
       "</div>"
      ],
      "text/plain": [
       "                 STATE   SOIL_TYPE  TEMPERATURE        ph    RAINFALL  \\\n",
       "0  Andaman and Nicobar  Sandy soil    20.879744  6.502985  202.935536   \n",
       "1  Andaman and Nicobar  Sandy soil    21.770462  7.038096  226.655537   \n",
       "2  Andaman and Nicobar  Sandy soil    23.004459  7.840207  263.964248   \n",
       "3  Andaman and Nicobar  Sandy soil    26.491096  6.980401  242.864034   \n",
       "4  Andaman and Nicobar  Sandy soil    20.130175  7.628473  262.717340   \n",
       "\n",
       "   CROP_PRICE           CROP  \n",
       "0        7000     Amaranthus  \n",
       "1        5000   Green Banana  \n",
       "2        7000  Ladies Finger  \n",
       "3        7000   Bitter Gourd  \n",
       "4      120000   Black pepper  "
      ]
     },
     "execution_count": 141,
     "metadata": {},
     "output_type": "execute_result"
    }
   ],
   "source": [
    "df.head()"
   ]
  },
  {
   "cell_type": "code",
   "execution_count": 142,
   "id": "87901eaa",
   "metadata": {},
   "outputs": [
    {
     "data": {
      "text/plain": [
       "26"
      ]
     },
     "execution_count": 142,
     "metadata": {},
     "output_type": "execute_result"
    }
   ],
   "source": [
    "len(df['STATE'].unique())"
   ]
  },
  {
   "cell_type": "code",
   "execution_count": 143,
   "id": "f9c18911",
   "metadata": {},
   "outputs": [
    {
     "data": {
      "image/png": "[encoded data removed]",
      "text/plain": [
       "<Figure size 1080x720 with 1 Axes>"
      ]
     },
     "metadata": {},
     "output_type": "display_data"
    }
   ],
   "source": [
    "plt.figure(figsize=(15,10))\n",
    "sns.countplot(y=df[\"STATE\"])\n",
    "plt.show()"
   ]
  },
  {
   "cell_type": "code",
   "execution_count": 144,
   "id": "098ae915",
   "metadata": {},
   "outputs": [
    {
     "data": {
      "image/png": "[encoded data removed]",
      "text/plain": [
       "<Figure size 1080x2160 with 1 Axes>"
      ]
     },
     "metadata": {},
     "output_type": "display_data"
    }
   ],
   "source": [
    "plt.figure(figsize=(15,30))\n",
    "sns.countplot(y=df[\"CROP\"])\n",
    "plt.show()"
   ]
  },
  {
   "cell_type": "code",
   "execution_count": 145,
   "id": "9d92609e",
   "metadata": {},
   "outputs": [
    {
     "data": {
      "image/png": "[encoded data removed]",
      "text/plain": [
       "<Figure size 1080x720 with 1 Axes>"
      ]
     },
     "metadata": {},
     "output_type": "display_data"
    }
   ],
   "source": [
    "plt.figure(figsize=(15,10))\n",
    "sns.countplot(y=df[\"SOIL_TYPE\"])\n",
    "plt.show()"
   ]
  },
  {
   "cell_type": "code",
   "execution_count": 146,
   "id": "226cbc65",
   "metadata": {},
   "outputs": [],
   "source": [
    "st = df[\"STATE\"].unique()\n",
    "yield_per_st = []\n",
    "for state in  st:\n",
    "    yield_per_st.append(df[df['STATE'] == state][\"CROP\"].sum())"
   ]
  },
  {
   "cell_type": "code",
   "execution_count": 147,
   "id": "f324cff9",
   "metadata": {},
   "outputs": [
    {
     "data": {
      "text/plain": [
       "'AmaranthusGreen BananaLadies FingerBitter GourdBlack pepperBottle GourdBrinjalCabbageCarrotCauliflowerCluster beansCoconutColacasiaOnionPotatoTomatoTomatoTomatoBengal GramJowarPaddyPaddyLentilRiceRiceBitter GourdBottle GourdBrinjalCabbageCarrotCauliflowerCluster beansCucumberField PeaFrench BeansGreen ChilliKnool KholPotatoPumpkinRaddishTomatoBlack GramGreen GramJuteMaida AttaMustardRiceRiceWheat AttaGarlicGreen GramMasur DalOnionPotatoRiceWheat AttaBitter GourdBrinjalCabbageCarrotCauliflowerCucumberGarlicGreen ChilliOnionPotatoPumpkinRaddishRidge GourdTomatoArecanutRed GramBrinjalCabbageGreen ChilliJuteMaizeMustardRiceRiceDry ChilliesPaddyPaddyPaddyGroundnutArecanutArecanutArecanutLadies FingerBrinjalCapsicumGuarLemonBajraBajraCastor SeedLadies FingerBottle GourdBrinjalCabbageCapsicumCarrotCauliflowerCorianderCowpeaCucumberDrumstickElephat YamGingerGreen ChilliSeamLemonMethi LeavesGreen OnionPeas codPigeon PeaSponge GourdSurat BeansSweet PotatoTindaTomatoCluster BeansPotatoSweet PotatoRed GramCottonMaizePaddyWheatBajraMaizePaddyBrinjalCabbageTomatoLadies FingerBrinjalCowpeaPaddyPigeon PeaSurat BeansTomatoLadies FingerBrinjalCowpeaPaddyPigeon PeaSurat BeansTomatoBitter GourdBottle GourdBrinjalCabbageCauliflowerCucumberChholiaGuarLittle GourdPaddyPigeon PeaRidge GourdRound gourdTomatoCottonCottonCottonCottonLadies FingerBitter GourdBottle GourdBrinjalCarrotCauliflowerCorianderCowpeaCucumberDrumstickElephat YamGingerGreen ChilliSeamLeafy VegetableLemonMethi LeavesMintOnionPapayaPeas codPigeon PeaPotatoPumpkinRaddishSpinachSponge GourdSurat BeansSweet PotatoTomatoBitter GourdBottle GourdParvalTindaBananaZizyphusCarrotCorianderGarlicGingerGrapesGreen ChilliKinnowLeafy VegetableMethi LeavesPeasPotatoRaddishSpinachAppleCabbageCarrotCauliflowerGrapesGreen ChilliKinnowOrangePeasPomegranatePotatoRaddishTomatoBananaBottle GourdCabbageCarrotCauliflowerCucumberGrapesOnionOrangePapayaPeasPomegranatePotatoRaddishSpinachTindaTomatoPotatoAppleBananaZizyphusLadies FingerCarrotSapotaCucumberGingerGrapesKinnowOrangePomegranatePotatoRaddishTomatoCauliflowerOnionPotatoTomatoAppleBottle GourdBrinjalCabbageCapsicumCarrotCauliflowerCorianderKinnowPeasPomegranatePotatoRaddishSpinachTomatoAppleBananaLadies FingerBottle GourdBrinjalCabbageCapsicumCarrotCauliflowerCorianderFrench BeansGingerGrapesGreen ChilliKinnowLemonMushroomsMethi LeavesSweet LimeOnionOrangePapayaPeas codPineapplePomegranatePotatoRaddishSpinachTomatoAppleZizyphusLadies FingerBottle GourdBrinjalCabbageCapsicumCarrotCauliflowerCucumberFrench BeansGingerGrapesGreen ChilliGuavaKinnowLemonMushroomsSweet LimeOnionOrangePapayaPeasPineapplePomegranatePotatoPumpkinRaddishSpinachTomatoTurnipBananaLadies FingerBottle GourdBrinjalCabbageCapsicumCarrotCauliflowerCorianderCucumberFrench BeansGarlicGingerGrapesGreen ChilliGuavaKinnowLemonOnionPapayaPeasPotatoPumpkinRaddishSpinachSquashTomatoCauliflowerCucumberKnool KholBeansBeetrootLadies FingerBitter GourdBrinjalCabbageCarrotChilly CapsicumCucumberDrumstickGingerGreen AvareGreen ChilliKnool KholPapayaPeasRaddishRidge GourdSeemebadnekaiSnakeguardSuvarna GaddeTomatoWater MelonBeansBeetrootCabbageCapsicumCarrotCauliflowerChilly CapsicumKnool KholRaddishRidge GourdTomatoTomatoCopraAmphophalusAppleAsh GourdBananaBananaBananaGreen BananaAmphophalusAsh GourdGreen BananaBeetrootLadies FingerBitter GourdBottle GourdCapsicumCarrotCowpeaCucumberAmphophalusAsh GourdGreen BananaLadies FingerBitter GourdBrinjalCabbageCapsicumCarrotAmaranthusAmphophalusAsh GourdGreen BananaBeetrootBitter GourdBrinjalCowpeaPotatoTomatoArecanutBlack pepperCoconutCoconut OilCopraRubberAmaranthusArecanutBananaBananaLadies FingerCashewnutsCopraCowpeaCucumberPaddyPepper garbledPumpkinAmaranthusArecanutAsh GourdGreen BananaBeetrootLadies FingerBitter GourdBottle GourdBrinjalCabbageCarrotCoconut SeedCopraCowpeaCucumberDrumstickGingerGreen ChilliSeamLittle GourdLong MelonPepper garbledPotatoPumpkinRidge GourdSnakeguardSweet PotatoTapiocaTomatoAmaranthusAsh GourdBananaBananaBananaBananaBananaBeetrootLadies FingerBitter GourdBottle GourdCabbageCarrotCauliflowerColacasiaDrumstickPotatoPumpkinSnakeguardBananaBananaBananaBananaLadies FingerBrinjalGingerLittle GourdTomatoAmaranthusGreen BananaLadies FingerBitter GourdCucumberElephat YamGingerSnakeguardTapiocaTurmericAsh GourdBananaGreen BananaBeetrootLadies FingerBitter GourdBrinjalCabbageCarrotCluster beansCoconutColacasiaCucumberDrumstickElephat YamGingerGreen ChilliLittle GourdMangoOnionOnionPotatoPumpkinSnakeguardTapiocaTomatoBananaBananaBananaAmaranthusAmlaAmphophalusAsh GourdBeetrootLadies FingerBitter GourdBottle GourdBrinjalCabbageCarrotCauliflowerCowpeaCucumberDrumstickFrench BeansGarlicGingerGreen ChilliLemonOnionOrangePotatoPumpkinSnakeguardTomatoAmaranthusAsh GourdGreen BananaBeetrootLadies FingerBitter GourdBrinjalCabbageCarrotCauliflowerCoconut SeedCowpeaCucumberDrumstickDuster BeansElephat YamGingerGreen ChilliMangoOnionPotatoPumpkinSnakeguardTapiocaTomatoAsh GourdBananaGreen BananaBeetrootLadies FingerBitter GourdBottle GourdBrinjalCabbageCarrotCauliflowerCoconutCowpeaCucumberDrumstickElephat YamGingerGreen ChilliSeamLemonMangoOnionPotatoPumpkinTapiocaTomatoAsh GourdGreen BananaBeetrootLadies FingerBitter GourdBrinjalCabbageCarrotDrumstickElephat YamFrench BeansGingerGreen ChilliMangoOnionPotatoPumpkinSweet PotatoTapiocaTomatoBananaBananaBananaBananaBananaBananaBananaBananaBananaBananaBananaBananaBananaBananaAmaranthusBananaBananaBananaBitter GourdBrinjalBrinjalColacasiaDrumstickGingerPumpkinSnakeguardPaddyLadies FingerBottle GourdBrinjalCauliflowerGreen ChilliSpinachTomatoAppleBananaSoyabeanWheatAppleBananaOrangeLinseedNiger SeedPaddySoyabeanLadies FingerBitter GourdBottle GourdBrinjalCabbageCauliflowerCorianderCottonGreen ChilliMoong DalMethi LeavesOnionPaddySpinachTomatoWheatTomatoCabbageCorianderGreen ChilliMustardCarrotOrangePotatoTomatoOnionPomegranateCottonBananaBengal GramCottonMaizeOnionAppleBrinjalCabbageCauliflowerCorianderGreen ChilliLimeMangoOnionTomatoBrinjalCabbageCauliflowerTomatoRed GramBengal GramCottonWheatRed GramBengal GramTurmericWheatOnionAppleBeansBeetrootLadies FingerBitter GourdBottle GourdBrinjalCabbageCarrotCauliflowerSapotaChilly CapsicumCorianderCucumberDrumstickElephat YamGarlicGingerGrapesGreen ChilliGuarGuavaMusk MelonLimeLittle GourdMintOnionGreen OnionOrangePearPeasPineapplePotatoPumpkinRaddishRajgirRidge GourdSnakeguardSpinachSweet PotatoSweet PumpkinTender CoconutTomatoWater MelonLadies FingerBitter GourdBottle GourdBrinjalCabbageCauliflowerCorianderCucumberGrapesGuavaLeafy VegetableMethi LeavesMintOnionGreen OnionPeasRaddishRajgirRidge GourdSpinachTomatoWater MelonCarrotCauliflowerCorianderGreen ChilliOnionGreen OnionPotatoRaddishSpinachTomatoBeansBeetrootBottle GourdBrinjalCabbageCauliflowerCorianderDrumstickOnionPotatoRaddishSpinachTomatoAppleBananaBeansLadies FingerBitter GourdBottle GourdBrinjalCabbageCarrotCauliflowerSapotaChilly CapsicumCorianderCucumberDrumstickGarlicGingerGrapesGreen ChilliGuarOnionGreen OnionPeasPomegranatePotatoRidge GourdSpinachSweet PotatoTomatoWater MelonBrinjalPotatoLadies FingerBitter GourdBrinjalCorianderCucumberGreen ChilliOnionRidge GourdTomatoBananaBananaChana DalCabbageCauliflowerGingerMasur DalOnionPaddyPotatoRiceBananaCabbageCauliflowerDry ChilliesGingerMasur DalOnionPotatoRiceBananaCabbageCauliflowerDry ChilliesGingerMasur DalOnionPaddyPotatoRiceBananaChana DalCabbageCauliflowerDry ChilliesGingerMasur DalOnionPaddyPotatoRiceBananaChana DalCabbageCauliflowerDry ChilliesGingerMasur DalOnionPaddyPotatoRiceTurmericArecanutBananaBetal LeavesGingerOrangePumpkinArecanutGreen BananaCabbageGingerLeafy VegetableTurmericBrinjalBrinjalPotatoBrinjalCabbageGarlicGingerOnionTomatoCabbageCarrotGarlicTomatoPaddyGreen BananaBeansLadies FingerBitter GourdBrinjalCucumberOnionPotatoPumpkinTomatoBananaLadies FingerBrinjalTomatoWater MelonBananaCoconutBrinjalOnionPaddyBrinjalMaizeOnionPotatoBeansBitter GourdBrinjalCabbageCauliflowerCucumberLeafy VegetableOnionPotatoRiceTomatoLadies FingerBitter GourdBrinjalCabbageCauliflowerPumpkinTomatoBroken RiceJaggeryMaizeGreen BananaLadies FingerBlack GramBlack GramBrinjalCabbageCapsicumCarrotCauliflowerCucumberFrench BeansOnionOnionOrangeOrangeOrangePaddyPotatoRiceSugarTomatoWheatWheat AttaBrinjalCabbageCauliflowerTomatoCopraPaddyPaddyPaddyPaddyPaddySesamumCarrotCauliflowerPeas codCarrotCarrotCauliflowerPeasRaddishOnionPotatoCauliflowerPeas codTurnipBrinjalCarrotCauliflowerOnionPeasPotatoRaddishBrinjalCapsicumGreen ChilliBrinjalCabbageCapsicumCarrotCauliflowerCucumberField PeaGingerGrapesGrapesGreen ChilliKinnowKinnowKinnowOnionPapayaPotatoRaddishSpinachTomatoAmphophalusLadies FingerBrinjalCabbageCapsicumCarrotCauliflowerCorianderCucumberGarlicGingerGreen ChilliKinnowOnionPeasPotatoRaddishSpinachTomatoTurnipCabbageCarrotCauliflowerPeasPotatoRaddishSpinachTomatoCarrotCauliflowerMethi LeavesRaddishSpinachCarrotCauliflowerGreen ChilliOnionPeasPotatoTomatoCabbageCarrotCauliflowerCorianderGreen ChilliMethi LeavesPeasPotatoRaddishSpinachTomatoBananaLadies FingerBrinjalCapsicumCarrotCauliflowerCottonCucumberGrapesGrapesGreen ChilliKinnowOnionPeas codPotatoTomatoAppleBananaBrinjalCabbageCarrotCauliflowerSapotaCottonCucumberGingerChholiaGrapesGrapesGreen ChilliGuavaKinnowOnionGreen OnionPeas codPineapplePomegranatePotatoRaddishSpinachTomatoBrinjalOnionCarrotCauliflowerGingerGreen ChilliOnionPeasPotatoTomatoCarrotCucumberGingerGreen ChilliOnionPeasRaddishTomatoCarrotCauliflowerCorianderPeasRaddishSquashAppleBananaBrinjalCapsicumCarrotCauliflowerCorianderCucumberGarlicGingerGreen ChilliGuavaKinnowLeafy VegetableOnionPapayaPeasPotatoRaddishSpinachTomatoMustardCluster BeansMoath DalGuarMoath DalWheatBananaLadies FingerBottle GourdCabbageCapsicumCarrotCauliflowerCucumberGingerGrapesGreen ChilliLemonOnionPapayaPomegranateTomatoMustardSoyabeanWheatBengal GramCorriander seedMustardSoyabeanWheatBajraBengal GramGround Nut SeedCluster BeansGuarBajraMaizeMustardTaramiraWheatBlack GramCoconutTobaccoTurmericCoconutCoconutCopraMaizePaddyCoconutCoconutCopraMaizeCoconutCoconutCoconutCoconutGroundnutCoconutCoconutCopraMaizeBlack GramGroundnutPaddyPaddyPaddyBlack GramGroundnutTamarind FruitCoconut SeedCottonTamarind FruitCoconut SeedGroundnutCoconutMaizeCoconutCoconutCoconutCoconutCopraSesamumSesamumCoconutCoconutCopraPaddyPaddyPaddyPaddyPaddyPaddyPaddyPaddyPaddyCoconut SeedCoconut SeedCoconut SeedCottonCoconutPaddyPaddySesamumCottonCottonJowarPaddyPaddyCashewnutsTurmericTurmericCopraCopraTurmericTurmericCoconutPaddyCopraTapiocaCottonCoconutCottonCottonCoconutTurmericMaizeCottonCoconutCoconutPaddyPaddyPaddyPaddyPaddyPaddyPaddyGroundnutPaddyPaddyPaddyPaddyPaddyPaddyPaddyBlack GramCopraCowpeaGroundnutHorse GramMaizePaddyPaddyRagiTamarind FruitBlack GramGreen GramGroundnutPaddyPaddyBlack GramMaizeSesamumBlack GramCottonGreen GramGroundnutPaddyPaddyPaddyRagiSesamumCumbuBlack GramGingelly OilGreen GramGroundnutVaraguMaizeRagiCumbuBlack GramGreen GramHybrid CumbuPaddyRagiSesamumBlack GramGroundnutHorse GramMaizePaddyRagiSesamumGroundnutHybrid CumbuKaramaniRagiSesamumPaddyPaddyBlack GramCottonGreen GramGroundnutHybrid CumbuPaddyPaddyPaddyRagiSesamumThinaiBlack GramGreen GramGroundnutPaddyPaddyPaddyPaddyPaddySesamumCumbuPaddyPaddyDry ChilliesDry ChilliesCottonMustardCottonWoodPaddyPaddyPaddyPaddyBrinjalCabbageCauliflowerGreen ChilliTomatoMasur DalRiceBitter GourdBrinjalCabbageCauliflowerCucumberGreen ChilliPapayaBitter GourdBrinjalCabbageCauliflowerCucumberGingerPapayaOnionPotatoBajraBananaBarleyBottle GourdBrinjalCabbageCarrotCauliflowerGingerGreen ChilliJaggeryLemonMustardOnionPotatoPumpkinRaddishRiceSpinachTomatoWheatAppleBajraBananaBarleyLadies FingerBottle GourdBrinjalCabbageCauliflowerCucumberGingerGreen ChilliGuavaJaggeryLemonSweet LimeMustardOnionPapayaPotatoPumpkinRaddishRiceTomatoWheatAppleBajraBananaBarleyLadies FingerBottle GourdBrinjalCabbageCauliflowerGreen ChilliJaggeryLemonMustardOnionPotatoPumpkinRaddishRiceWheatAppleBajraBananaBottle GourdBrinjalCabbageCarrotCauliflowerGingerGreen ChilliLemonOnionPapayaPeasPotatoPumpkinRaddishTomatoWheatAppleBajraBananaBarleyLadies FingerBottle GourdBrinjalCabbageCarrotCauliflowerGreen ChilliJaggeryLemonSweet LimeMustardOnionPapayaPotatoPumpkinRaddishRiceTomatoWheatBajraBarleyBrinjalCarrotCauliflowerColacasiaGreen ChilliGroundnutJaggeryMustardOnionPeasPotatoRaddishTomatoWheatBajraBrinjalCarrotCauliflowerGreen ChilliMaizePotatoPumpkinRaddishTomatoJaggeryOnionPotatoBrinjalCarrotCauliflowerGreen ChilliOnionPotatoRaddishTomatoAppleGreen BananaBengal GramBrinjalCarrotCauliflowerSapotaCucumberGingerGreen ChilliGuavaJaggeryOnionPapayaPomegranatePotatoPumpkinRaddishTomatoWheatJaggeryPaddyTomatoPaddyAppleBananaLadies FingerBrinjalFishGrapesGreen ChilliJaggeryLemonOnionPaddyPotatoRiceTomatoWheatBananaJaggeryOnionPotatoRiceAppleKinnowOnionPomegranatePotatoBajraBananaLadies FingerBottle GourdBrinjalCarrotCauliflowerMaizeMustardOnionPotatoPumpkinTomatoWheatBrinjalCarrotCauliflowerGreen ChilliGuavaOnionPotatoRaddishTomatoCarrotCauliflowerGreen ChilliJaggeryOnionPotatoTomatoRed GramBengal GramMustardRiceWheatBajraGreen BananaBrinjalCarrotCauliflowerColacasiaField PeaGarlicGingerGreen ChilliMustardOnionPotatoTobaccoTomatoWheatBajraBrinjalCarrotCauliflowerGreen ChilliGreen PeasGuavaPotatoPumpkinRaddishTomatoMaizePotatoWheatPotatoJaggeryPaddyWheatBrinjalCabbageCarrotGreen ChilliPotatoTomatoAppleTur DalBananaBengal GramUrd DalBottle GourdBrinjalCabbageGreen ChilliJaggeryLemonSweet LimeMustardMustard OilOnionPapayaPotatoRaddishRiceSugarTomatoWheatWheatWheatColacasiaGingerBlack GramGroundnutWheatAppleTur DalBananaBengal GramUrd DalBrinjalCabbageCauliflowerGreen ChilliJaggeryMaizeMustardMustard OilOnionPaddyPeas codPotatoRiceTomatoWheatAppleBajraBananaBarleyBottle GourdBrinjalCabbageCauliflowerGheeGreen ChilliGreen GramGuavaJowarMaizeMustardOnionPaddyPaddyPotatoPumpkinRaddishTomatoWheatWoodOnionPotatoTomatoJaggeryJaggeryJaggeryPumpkinWhite PumpkinAppleTur DalBananaGreen BananaBottle GourdBrinjalCabbageCapsicumCauliflowerField PeaGarlicGingerGrapesGreen ChilliJaggeryMustardMustard OilOnionOrangePomegranatePotatoPumpkinRiceSugarTomatoWheatBengal GramBlack GramMustardWheatTur DalRiceWheatAppleTur DalChana DalBengal GramUrd DalBottle GourdBrinjalGarlicGingerGreen ChilliJaggeryLentilMustardMustard OilOnionPeasPotatoRiceTomatoWheatAppleGreen BananaBrinjalCabbageOnionPaddyPeasPotatoTomatoAppleGreen BananaBarleyBottle GourdBrinjalCarrotCauliflowerGarlicGreen ChilliJaggeryLemonMaizeSweet LimeMustardMustard OilOnionPapayaPotatoPumpkinRiceTomatoWheatAppleBottle GourdCarrotGreen ChilliJaggeryOnionPlumPumpkinRaddishRiceWheatZizyphusLadies FingerBrinjalCarrotCauliflowerCucumberGreen ChilliGreen PeasLemonOnionPapayaPotatoPumpkinRaddishTomatoWoodPaddyPotatoMustardPotatoWheatAppleBananaCabbageCarrotGingerGreen ChilliOnionPeas codPotatoRaddishTomatoBottle GourdBrinjalCarrotCauliflowerCucumberGingerGreen ChilliOnionPapayaPotatoTomatoAppleBananaBrinjalCabbageCarrotField PeaGarlicGingerGreen ChilliGuavaJaggeryOnionPapayaPotatoPumpkinRaddishSweet PotatoTomatoWheatWoodGreen BananaCabbageCauliflowerGreen PeasOnionPotatoRaddishWoodAppleBananaGreen BananaBottle GourdBrinjalCabbageCarrotGreen ChilliGroundnutGuavaMustardOnionPapayaPeasPotatoPumpkinRaddishTomatoWheatWoodGreen BananaBottle GourdBrinjalCarrotCauliflowerGreen ChilliGreen PeasOnionPapayaBrinjalCauliflowerColacasiaPotatoRaddishTomatoJaggeryLentilOnionPotatoWheatWoodCauliflowerPeasRaddishTur DalBarleyBengal GramBottle GourdBrinjalCauliflowerGarlicGreen ChilliJaggeryMustardOnionPotatoRiceTomatoWheatAppleBananaCabbageCarrotCauliflowerGarlicGrapesGreen ChilliKinnowLemonOnionOrangePapayaPeasPomegranatePotatoPumpkinRaddishTomatoOnionPotatoMustardOnionPotatoRiceRiceWheatBrinjalCucumberMustardPaddyPotatoRiceSweet PumpkinTomatoWheatRed GramBlack GramBlack GramBrinjalGingerGreen GramGreen GramLentilMustardOnionPeasPeasPotatoRiceSweet PumpkinTomatoWheatCucumberGreen ChilliJaggeryMustardOnionPaddyPotatoRiceSweet PumpkinTomatoBrinjalMustardPaddyPotatoRiceSesamumBrinjalCucumberGreen ChilliJuteOnionPaddyPaddyPotatoRiceRiceSweet PumpkinTomatoGingerJuteMustardMustard OilOnionPaddyPotatoRiceSesamumBitter GourdBrinjalCucumberPotatoRiceBitter GourdBrinjalCabbageCauliflowerCucumberGreen ChilliPotatoSweet PumpkinTomatoJuteMustardMustardOnionPotatoRiceRiceJaggeryJuteMustardPotatoRiceRiceSesamumJutePotatoRiceJuteOnionPaddyPotatoRiceTurmericWheatBrinjalGreen ChilliJuteMustardOnionPaddyPotatoRiceSweet PumpkinBitter GourdBrinjalGreen ChilliOnionPapayaPotatoPumpkinTomato'"
      ]
     },
     "execution_count": 147,
     "metadata": {},
     "output_type": "execute_result"
    }
   ],
   "source": [
    "df['CROP'].sum()"
   ]
  },
  {
   "cell_type": "code",
   "execution_count": 148,
   "id": "de059250",
   "metadata": {},
   "outputs": [
    {
     "data": {
      "text/plain": [
       "Index(['STATE', 'SOIL_TYPE', 'TEMPERATURE', 'ph', 'RAINFALL', 'CROP_PRICE',\n",
       "       'CROP'],\n",
       "      dtype='object')"
      ]
     },
     "execution_count": 148,
     "metadata": {},
     "output_type": "execute_result"
    }
   ],
   "source": [
    "df.columns\n"
   ]
  },
  {
   "cell_type": "code",
   "execution_count": 163,
   "id": "9fdb9ce3",
   "metadata": {},
   "outputs": [
    {
     "data": {
      "text/plain": [
       "<AxesSubplot:>"
      ]
     },
     "execution_count": 163,
     "metadata": {},
     "output_type": "execute_result"
    },
    {
     "data": {
      "image/png": "[encoded data removed]",
      "text/plain": [
       "<Figure size 864x720 with 2 Axes>"
      ]
     },
     "metadata": {},
     "output_type": "display_data"
    }
   ],
   "source": [
    "## check for multicollineraity\n",
    "plt.figure(figsize=(12,10))\n",
    "corr=df.corr()\n",
    "sns.heatmap(corr,annot=True)"
   ]
  },
  {
   "cell_type": "code",
   "execution_count": 149,
   "id": "636fa33d",
   "metadata": {},
   "outputs": [],
   "source": [
    "col= ['STATE', 'SOIL_TYPE', 'TEMPERATURE', 'ph', 'RAINFALL', 'CROP_PRICE',\n",
    "       'CROP']"
   ]
  },
  {
   "cell_type": "code",
   "execution_count": 150,
   "id": "806f1e4e",
   "metadata": {
    "scrolled": true
   },
   "outputs": [
    {
     "name": "stdout",
     "output_type": "stream",
     "text": [
      "Num of numerical features: 4\n",
      "Num of categorical features: 3\n",
      "Num of discreate featuresL: 0\n",
      "Num of continuous featuresL: 4\n"
     ]
    }
   ],
   "source": [
    "## getting all different of features\n",
    "num_features= [feature for feature in df.columns if df[feature].dtype!='O']\n",
    "print('Num of numerical features:',len(num_features))\n",
    "cat_features=[feature for feature in df.columns if df[feature].dtype=='O']\n",
    "print('Num of categorical features:',len(cat_features))\n",
    "discreate_features=[feature for feature in num_features if len(df[feature].unique())<=25 ]\n",
    "print('Num of discreate featuresL:',len(discreate_features))\n",
    "continuous_features=[feature for feature in num_features if feature not in discreate_features]\n",
    "print('Num of continuous featuresL:',len(continuous_features))"
   ]
  },
  {
   "cell_type": "code",
   "execution_count": 151,
   "id": "4a3e4f3d",
   "metadata": {},
   "outputs": [],
   "source": [
    "features=df[['STATE', 'SOIL_TYPE', 'TEMPERATURE', 'ph', 'RAINFALL']]\n",
    "target=df[['CROP_PRICE', 'CROP']]"
   ]
  },
  {
   "cell_type": "code",
   "execution_count": 152,
   "id": "841f411f",
   "metadata": {},
   "outputs": [
    {
     "data": {
      "text/plain": [
       "['TEMPERATURE', 'ph', 'RAINFALL', 'CROP_PRICE']"
      ]
     },
     "execution_count": 152,
     "metadata": {},
     "output_type": "execute_result"
    }
   ],
   "source": [
    "num_features"
   ]
  },
  {
   "cell_type": "code",
   "execution_count": 153,
   "id": "76339fbe",
   "metadata": {},
   "outputs": [
    {
     "data": {
      "text/plain": [
       "['STATE', 'SOIL_TYPE', 'CROP']"
      ]
     },
     "execution_count": 153,
     "metadata": {},
     "output_type": "execute_result"
    }
   ],
   "source": [
    "cat_features"
   ]
  },
  {
   "cell_type": "code",
   "execution_count": 154,
   "id": "f99c6896",
   "metadata": {},
   "outputs": [
    {
     "data": {
      "text/plain": [
       "['TEMPERATURE', 'ph', 'RAINFALL', 'CROP_PRICE']"
      ]
     },
     "execution_count": 154,
     "metadata": {},
     "output_type": "execute_result"
    }
   ],
   "source": [
    "continuous_features"
   ]
  },
  {
   "cell_type": "code",
   "execution_count": 155,
   "id": "217114cf",
   "metadata": {},
   "outputs": [],
   "source": [
    "from sklearn.model_selection import train_test_split\n",
    "x=df.drop(['CROP','CROP_PRICE'],axis=1)\n",
    "y=df[['CROP','CROP_PRICE']]"
   ]
  },
  {
   "cell_type": "code",
   "execution_count": 156,
   "id": "174eb760",
   "metadata": {},
   "outputs": [],
   "source": [
    "# create column transformer with 3 types of transformer\n",
    "cat_features=['STATE', 'SOIL_TYPE']\n",
    "num_features=['TEMPERATURE', 'ph', 'RAINFALL']\n",
    "\n",
    "from sklearn.preprocessing import OneHotEncoder, StandardScaler\n",
    "from sklearn.compose import ColumnTransformer\n",
    "\n",
    "numeric_transformer=StandardScaler()\n",
    "oh_transformer=OneHotEncoder(drop='first')\n",
    "\n",
    "preprocessor=ColumnTransformer(\n",
    "    [\n",
    "        ('OneHotEncoder',oh_transformer,cat_features),\n",
    "        ('StandardScaler',numeric_transformer,num_features)\n",
    "    ],\n",
    "    remainder='passthrough'\n",
    ")"
   ]
  },
  {
   "cell_type": "code",
   "execution_count": 157,
   "id": "57b184b5",
   "metadata": {},
   "outputs": [],
   "source": [
    "x_scaled=preprocessor.fit_transform(x)"
   ]
  },
  {
   "cell_type": "code",
   "execution_count": 159,
   "id": "a8de2f2d",
   "metadata": {},
   "outputs": [
    {
     "data": {
      "text/html": [
       "<div>\n",
       "<style scoped>\n",
       "    .dataframe tbody tr th:only-of-type {\n",
       "        vertical-align: middle;\n",
       "    }\n",
       "\n",
       "    .dataframe tbody tr th {\n",
       "        vertical-align: top;\n",
       "    }\n",
       "\n",
       "    .dataframe thead th {\n",
       "        text-align: right;\n",
       "    }\n",
       "</style>\n",
       "<table border=\"1\" class=\"dataframe\">\n",
       "  <thead>\n",
       "    <tr style=\"text-align: right;\">\n",
       "      <th></th>\n",
       "      <th>0</th>\n",
       "    </tr>\n",
       "  </thead>\n",
       "  <tbody>\n",
       "    <tr>\n",
       "      <th>0</th>\n",
       "      <td>(0, 38)\\t1.0\\n  (0, 39)\\t-0.9355869259076098...</td>\n",
       "    </tr>\n",
       "    <tr>\n",
       "      <th>1</th>\n",
       "      <td>(0, 38)\\t1.0\\n  (0, 39)\\t-0.7596460261263331...</td>\n",
       "    </tr>\n",
       "    <tr>\n",
       "      <th>2</th>\n",
       "      <td>(0, 38)\\t1.0\\n  (0, 39)\\t-0.5158981414813986...</td>\n",
       "    </tr>\n",
       "    <tr>\n",
       "      <th>3</th>\n",
       "      <td>(0, 38)\\t1.0\\n  (0, 39)\\t0.1728070378828599\\...</td>\n",
       "    </tr>\n",
       "    <tr>\n",
       "      <th>4</th>\n",
       "      <td>(0, 38)\\t1.0\\n  (0, 39)\\t-1.08364706156879\\n...</td>\n",
       "    </tr>\n",
       "    <tr>\n",
       "      <th>...</th>\n",
       "      <td>...</td>\n",
       "    </tr>\n",
       "    <tr>\n",
       "      <th>2195</th>\n",
       "      <td>(0, 24)\\t1.0\\n  (0, 39)\\t0.22881400336573957...</td>\n",
       "    </tr>\n",
       "    <tr>\n",
       "      <th>2196</th>\n",
       "      <td>(0, 24)\\t1.0\\n  (0, 39)\\t0.3557202575419997\\...</td>\n",
       "    </tr>\n",
       "    <tr>\n",
       "      <th>2197</th>\n",
       "      <td>(0, 24)\\t1.0\\n  (0, 39)\\t-0.2932184333073158...</td>\n",
       "    </tr>\n",
       "    <tr>\n",
       "      <th>2198</th>\n",
       "      <td>(0, 24)\\t1.0\\n  (0, 39)\\t0.12961222633844158...</td>\n",
       "    </tr>\n",
       "    <tr>\n",
       "      <th>2199</th>\n",
       "      <td>(0, 24)\\t1.0\\n  (0, 39)\\t-0.3976670266942177...</td>\n",
       "    </tr>\n",
       "  </tbody>\n",
       "</table>\n",
       "<p>2200 rows × 1 columns</p>\n",
       "</div>"
      ],
      "text/plain": [
       "                                                      0\n",
       "0       (0, 38)\\t1.0\\n  (0, 39)\\t-0.9355869259076098...\n",
       "1       (0, 38)\\t1.0\\n  (0, 39)\\t-0.7596460261263331...\n",
       "2       (0, 38)\\t1.0\\n  (0, 39)\\t-0.5158981414813986...\n",
       "3       (0, 38)\\t1.0\\n  (0, 39)\\t0.1728070378828599\\...\n",
       "4       (0, 38)\\t1.0\\n  (0, 39)\\t-1.08364706156879\\n...\n",
       "...                                                 ...\n",
       "2195    (0, 24)\\t1.0\\n  (0, 39)\\t0.22881400336573957...\n",
       "2196    (0, 24)\\t1.0\\n  (0, 39)\\t0.3557202575419997\\...\n",
       "2197    (0, 24)\\t1.0\\n  (0, 39)\\t-0.2932184333073158...\n",
       "2198    (0, 24)\\t1.0\\n  (0, 39)\\t0.12961222633844158...\n",
       "2199    (0, 24)\\t1.0\\n  (0, 39)\\t-0.3976670266942177...\n",
       "\n",
       "[2200 rows x 1 columns]"
      ]
     },
     "execution_count": 159,
     "metadata": {},
     "output_type": "execute_result"
    }
   ],
   "source": [
    "pd.DataFrame(x_scaled)"
   ]
  },
  {
   "cell_type": "code",
   "execution_count": 160,
   "id": "c296e111",
   "metadata": {},
   "outputs": [
    {
     "data": {
      "text/plain": [
       "((1760, 5), (440, 5))"
      ]
     },
     "execution_count": 160,
     "metadata": {},
     "output_type": "execute_result"
    }
   ],
   "source": [
    "## separate train and test split\n",
    "from sklearn.model_selection import train_test_split\n",
    "x_train,x_test,y_train,y_test=train_test_split(x,y,test_size=0.2,random_state=42)\n",
    "x_train.shape,x_test.shape"
   ]
  },
  {
   "cell_type": "code",
   "execution_count": 162,
   "id": "57771faa",
   "metadata": {},
   "outputs": [
    {
     "ename": "ValueError",
     "evalue": "setting an array element with a sequence.",
     "output_type": "error",
     "traceback": [
      "\u001b[1;31m---------------------------------------------------------------------------\u001b[0m",
      "\u001b[1;31mTypeError\u001b[0m                                 Traceback (most recent call last)",
      "\u001b[1;31mTypeError\u001b[0m: float() argument must be a string or a number, not 'csr_matrix'",
      "\nThe above exception was the direct cause of the following exception:\n",
      "\u001b[1;31mValueError\u001b[0m                                Traceback (most recent call last)",
      "Input \u001b[1;32mIn [162]\u001b[0m, in \u001b[0;36m<cell line: 7>\u001b[1;34m()\u001b[0m\n\u001b[0;32m      5\u001b[0m plt\u001b[38;5;241m.\u001b[39mtitle(\u001b[38;5;124m'\u001b[39m\u001b[38;5;124mx_train before scaling\u001b[39m\u001b[38;5;124m'\u001b[39m)\n\u001b[0;32m      6\u001b[0m plt\u001b[38;5;241m.\u001b[39msubplot(\u001b[38;5;241m1\u001b[39m,\u001b[38;5;241m2\u001b[39m,\u001b[38;5;241m2\u001b[39m)\n\u001b[1;32m----> 7\u001b[0m \u001b[43msns\u001b[49m\u001b[38;5;241;43m.\u001b[39;49m\u001b[43mboxplot\u001b[49m\u001b[43m(\u001b[49m\u001b[43mdata\u001b[49m\u001b[38;5;241;43m=\u001b[39;49m\u001b[43mx_scaled\u001b[49m\u001b[43m)\u001b[49m\n\u001b[0;32m      8\u001b[0m plt\u001b[38;5;241m.\u001b[39mtitle(\u001b[38;5;124m'\u001b[39m\u001b[38;5;124mx_train after scaling\u001b[39m\u001b[38;5;124m'\u001b[39m)\n",
      "File \u001b[1;32mC:\\jayvardhan\\lib\\site-packages\\seaborn\\_decorators.py:46\u001b[0m, in \u001b[0;36m_deprecate_positional_args.<locals>.inner_f\u001b[1;34m(*args, **kwargs)\u001b[0m\n\u001b[0;32m     36\u001b[0m     warnings\u001b[38;5;241m.\u001b[39mwarn(\n\u001b[0;32m     37\u001b[0m         \u001b[38;5;124m\"\u001b[39m\u001b[38;5;124mPass the following variable\u001b[39m\u001b[38;5;132;01m{}\u001b[39;00m\u001b[38;5;124m as \u001b[39m\u001b[38;5;132;01m{}\u001b[39;00m\u001b[38;5;124mkeyword arg\u001b[39m\u001b[38;5;132;01m{}\u001b[39;00m\u001b[38;5;124m: \u001b[39m\u001b[38;5;132;01m{}\u001b[39;00m\u001b[38;5;124m. \u001b[39m\u001b[38;5;124m\"\u001b[39m\n\u001b[0;32m     38\u001b[0m         \u001b[38;5;124m\"\u001b[39m\u001b[38;5;124mFrom version 0.12, the only valid positional argument \u001b[39m\u001b[38;5;124m\"\u001b[39m\n\u001b[1;32m   (...)\u001b[0m\n\u001b[0;32m     43\u001b[0m         \u001b[38;5;167;01mFutureWarning\u001b[39;00m\n\u001b[0;32m     44\u001b[0m     )\n\u001b[0;32m     45\u001b[0m kwargs\u001b[38;5;241m.\u001b[39mupdate({k: arg \u001b[38;5;28;01mfor\u001b[39;00m k, arg \u001b[38;5;129;01min\u001b[39;00m \u001b[38;5;28mzip\u001b[39m(sig\u001b[38;5;241m.\u001b[39mparameters, args)})\n\u001b[1;32m---> 46\u001b[0m \u001b[38;5;28;01mreturn\u001b[39;00m f(\u001b[38;5;241m*\u001b[39m\u001b[38;5;241m*\u001b[39mkwargs)\n",
      "File \u001b[1;32mC:\\jayvardhan\\lib\\site-packages\\seaborn\\categorical.py:2243\u001b[0m, in \u001b[0;36mboxplot\u001b[1;34m(x, y, hue, data, order, hue_order, orient, color, palette, saturation, width, dodge, fliersize, linewidth, whis, ax, **kwargs)\u001b[0m\n\u001b[0;32m   2231\u001b[0m \u001b[38;5;129m@_deprecate_positional_args\u001b[39m\n\u001b[0;32m   2232\u001b[0m \u001b[38;5;28;01mdef\u001b[39;00m \u001b[38;5;21mboxplot\u001b[39m(\n\u001b[0;32m   2233\u001b[0m     \u001b[38;5;241m*\u001b[39m,\n\u001b[1;32m   (...)\u001b[0m\n\u001b[0;32m   2240\u001b[0m     \u001b[38;5;241m*\u001b[39m\u001b[38;5;241m*\u001b[39mkwargs\n\u001b[0;32m   2241\u001b[0m ):\n\u001b[1;32m-> 2243\u001b[0m     plotter \u001b[38;5;241m=\u001b[39m \u001b[43m_BoxPlotter\u001b[49m\u001b[43m(\u001b[49m\u001b[43mx\u001b[49m\u001b[43m,\u001b[49m\u001b[43m \u001b[49m\u001b[43my\u001b[49m\u001b[43m,\u001b[49m\u001b[43m \u001b[49m\u001b[43mhue\u001b[49m\u001b[43m,\u001b[49m\u001b[43m \u001b[49m\u001b[43mdata\u001b[49m\u001b[43m,\u001b[49m\u001b[43m \u001b[49m\u001b[43morder\u001b[49m\u001b[43m,\u001b[49m\u001b[43m \u001b[49m\u001b[43mhue_order\u001b[49m\u001b[43m,\u001b[49m\n\u001b[0;32m   2244\u001b[0m \u001b[43m                          \u001b[49m\u001b[43morient\u001b[49m\u001b[43m,\u001b[49m\u001b[43m \u001b[49m\u001b[43mcolor\u001b[49m\u001b[43m,\u001b[49m\u001b[43m \u001b[49m\u001b[43mpalette\u001b[49m\u001b[43m,\u001b[49m\u001b[43m \u001b[49m\u001b[43msaturation\u001b[49m\u001b[43m,\u001b[49m\n\u001b[0;32m   2245\u001b[0m \u001b[43m                          \u001b[49m\u001b[43mwidth\u001b[49m\u001b[43m,\u001b[49m\u001b[43m \u001b[49m\u001b[43mdodge\u001b[49m\u001b[43m,\u001b[49m\u001b[43m \u001b[49m\u001b[43mfliersize\u001b[49m\u001b[43m,\u001b[49m\u001b[43m \u001b[49m\u001b[43mlinewidth\u001b[49m\u001b[43m)\u001b[49m\n\u001b[0;32m   2247\u001b[0m     \u001b[38;5;28;01mif\u001b[39;00m ax \u001b[38;5;129;01mis\u001b[39;00m \u001b[38;5;28;01mNone\u001b[39;00m:\n\u001b[0;32m   2248\u001b[0m         ax \u001b[38;5;241m=\u001b[39m plt\u001b[38;5;241m.\u001b[39mgca()\n",
      "File \u001b[1;32mC:\\jayvardhan\\lib\\site-packages\\seaborn\\categorical.py:406\u001b[0m, in \u001b[0;36m_BoxPlotter.__init__\u001b[1;34m(self, x, y, hue, data, order, hue_order, orient, color, palette, saturation, width, dodge, fliersize, linewidth)\u001b[0m\n\u001b[0;32m    402\u001b[0m \u001b[38;5;28;01mdef\u001b[39;00m \u001b[38;5;21m__init__\u001b[39m(\u001b[38;5;28mself\u001b[39m, x, y, hue, data, order, hue_order,\n\u001b[0;32m    403\u001b[0m              orient, color, palette, saturation,\n\u001b[0;32m    404\u001b[0m              width, dodge, fliersize, linewidth):\n\u001b[1;32m--> 406\u001b[0m     \u001b[38;5;28;43mself\u001b[39;49m\u001b[38;5;241;43m.\u001b[39;49m\u001b[43mestablish_variables\u001b[49m\u001b[43m(\u001b[49m\u001b[43mx\u001b[49m\u001b[43m,\u001b[49m\u001b[43m \u001b[49m\u001b[43my\u001b[49m\u001b[43m,\u001b[49m\u001b[43m \u001b[49m\u001b[43mhue\u001b[49m\u001b[43m,\u001b[49m\u001b[43m \u001b[49m\u001b[43mdata\u001b[49m\u001b[43m,\u001b[49m\u001b[43m \u001b[49m\u001b[43morient\u001b[49m\u001b[43m,\u001b[49m\u001b[43m \u001b[49m\u001b[43morder\u001b[49m\u001b[43m,\u001b[49m\u001b[43m \u001b[49m\u001b[43mhue_order\u001b[49m\u001b[43m)\u001b[49m\n\u001b[0;32m    407\u001b[0m     \u001b[38;5;28mself\u001b[39m\u001b[38;5;241m.\u001b[39mestablish_colors(color, palette, saturation)\n\u001b[0;32m    409\u001b[0m     \u001b[38;5;28mself\u001b[39m\u001b[38;5;241m.\u001b[39mdodge \u001b[38;5;241m=\u001b[39m dodge\n",
      "File \u001b[1;32mC:\\jayvardhan\\lib\\site-packages\\seaborn\\categorical.py:128\u001b[0m, in \u001b[0;36m_CategoricalPlotter.establish_variables\u001b[1;34m(self, x, y, hue, data, orient, order, hue_order, units)\u001b[0m\n\u001b[0;32m    125\u001b[0m     plot_data \u001b[38;5;241m=\u001b[39m data\n\u001b[0;32m    127\u001b[0m \u001b[38;5;66;03m# Convert to a list of arrays, the common representation\u001b[39;00m\n\u001b[1;32m--> 128\u001b[0m plot_data \u001b[38;5;241m=\u001b[39m [np\u001b[38;5;241m.\u001b[39masarray(d, \u001b[38;5;28mfloat\u001b[39m) \u001b[38;5;28;01mfor\u001b[39;00m d \u001b[38;5;129;01min\u001b[39;00m plot_data]\n\u001b[0;32m    130\u001b[0m \u001b[38;5;66;03m# The group names will just be numeric indices\u001b[39;00m\n\u001b[0;32m    131\u001b[0m group_names \u001b[38;5;241m=\u001b[39m \u001b[38;5;28mlist\u001b[39m(\u001b[38;5;28mrange\u001b[39m((\u001b[38;5;28mlen\u001b[39m(plot_data))))\n",
      "File \u001b[1;32mC:\\jayvardhan\\lib\\site-packages\\seaborn\\categorical.py:128\u001b[0m, in \u001b[0;36m<listcomp>\u001b[1;34m(.0)\u001b[0m\n\u001b[0;32m    125\u001b[0m     plot_data \u001b[38;5;241m=\u001b[39m data\n\u001b[0;32m    127\u001b[0m \u001b[38;5;66;03m# Convert to a list of arrays, the common representation\u001b[39;00m\n\u001b[1;32m--> 128\u001b[0m plot_data \u001b[38;5;241m=\u001b[39m [\u001b[43mnp\u001b[49m\u001b[38;5;241;43m.\u001b[39;49m\u001b[43masarray\u001b[49m\u001b[43m(\u001b[49m\u001b[43md\u001b[49m\u001b[43m,\u001b[49m\u001b[43m \u001b[49m\u001b[38;5;28;43mfloat\u001b[39;49m\u001b[43m)\u001b[49m \u001b[38;5;28;01mfor\u001b[39;00m d \u001b[38;5;129;01min\u001b[39;00m plot_data]\n\u001b[0;32m    130\u001b[0m \u001b[38;5;66;03m# The group names will just be numeric indices\u001b[39;00m\n\u001b[0;32m    131\u001b[0m group_names \u001b[38;5;241m=\u001b[39m \u001b[38;5;28mlist\u001b[39m(\u001b[38;5;28mrange\u001b[39m((\u001b[38;5;28mlen\u001b[39m(plot_data))))\n",
      "\u001b[1;31mValueError\u001b[0m: setting an array element with a sequence."
     ]
    },
    {
     "data": {
      "image/png": "[encoded data removed]",
      "text/plain": [
       "<Figure size 1080x360 with 2 Axes>"
      ]
     },
     "metadata": {},
     "output_type": "display_data"
    }
   ],
   "source": []
  },
  {
   "cell_type": "code",
   "execution_count": 46,
   "id": "67fceac2",
   "metadata": {},
   "outputs": [
    {
     "data": {
      "text/plain": [
       "(2200, 6)"
      ]
     },
     "execution_count": 46,
     "metadata": {},
     "output_type": "execute_result"
    }
   ],
   "source": []
  },
  {
   "cell_type": "code",
   "execution_count": 47,
   "id": "ac69a7a7",
   "metadata": {},
   "outputs": [
    {
     "data": {
      "text/plain": [
       "(2200,)"
      ]
     },
     "execution_count": 47,
     "metadata": {},
     "output_type": "execute_result"
    }
   ],
   "source": []
  },
  {
   "cell_type": "code",
   "execution_count": 48,
   "id": "48e7d991",
   "metadata": {},
   "outputs": [],
   "source": []
  },
  {
   "cell_type": "code",
   "execution_count": 80,
   "id": "94e97618",
   "metadata": {},
   "outputs": [
    {
     "data": {
      "text/plain": [
       "0      7000\n",
       "1      5000\n",
       "2      7000\n",
       "3      7000\n",
       "4    120000\n",
       "Name: CROP_PRICE, dtype: int64"
      ]
     },
     "execution_count": 80,
     "metadata": {},
     "output_type": "execute_result"
    }
   ],
   "source": [
    "y.head()"
   ]
  },
  {
   "cell_type": "code",
   "execution_count": 49,
   "id": "167f4b17",
   "metadata": {},
   "outputs": [
    {
     "data": {
      "text/plain": [
       "(2200, 6)"
      ]
     },
     "execution_count": 49,
     "metadata": {},
     "output_type": "execute_result"
    }
   ],
   "source": []
  },
  {
   "cell_type": "code",
   "execution_count": 50,
   "id": "58f0b298",
   "metadata": {},
   "outputs": [
    {
     "data": {
      "text/plain": [
       "(2200,)"
      ]
     },
     "execution_count": 50,
     "metadata": {},
     "output_type": "execute_result"
    }
   ],
   "source": []
  },
  {
   "cell_type": "code",
   "execution_count": 55,
   "id": "42a99e24",
   "metadata": {},
   "outputs": [],
   "source": []
  },
  {
   "cell_type": "code",
   "execution_count": 67,
   "id": "fd8fd80d",
   "metadata": {},
   "outputs": [],
   "source": []
  },
  {
   "cell_type": "code",
   "execution_count": 68,
   "id": "efa8777d",
   "metadata": {},
   "outputs": [],
   "source": []
  },
  {
   "cell_type": "code",
   "execution_count": 69,
   "id": "e3de10cd",
   "metadata": {},
   "outputs": [
    {
     "ename": "ValueError",
     "evalue": "input_features is not equal to feature_names_in_",
     "output_type": "error",
     "traceback": [
      "\u001b[1;31m---------------------------------------------------------------------------\u001b[0m",
      "\u001b[1;31mValueError\u001b[0m                                Traceback (most recent call last)",
      "Input \u001b[1;32mIn [69]\u001b[0m, in \u001b[0;36m<cell line: 1>\u001b[1;34m()\u001b[0m\n\u001b[1;32m----> 1\u001b[0m \u001b[43mpreprocesser\u001b[49m\u001b[38;5;241;43m.\u001b[39;49m\u001b[43mget_feature_names_out\u001b[49m\u001b[43m(\u001b[49m\u001b[43mcol\u001b[49m\u001b[43m[\u001b[49m\u001b[43m:\u001b[49m\u001b[38;5;241;43m-\u001b[39;49m\u001b[38;5;241;43m1\u001b[39;49m\u001b[43m]\u001b[49m\u001b[43m)\u001b[49m\n",
      "File \u001b[1;32mC:\\jayvardhan\\lib\\site-packages\\sklearn\\compose\\_column_transformer.py:476\u001b[0m, in \u001b[0;36mColumnTransformer.get_feature_names_out\u001b[1;34m(self, input_features)\u001b[0m\n\u001b[0;32m    457\u001b[0m \u001b[38;5;124;03m\"\"\"Get output feature names for transformation.\u001b[39;00m\n\u001b[0;32m    458\u001b[0m \n\u001b[0;32m    459\u001b[0m \u001b[38;5;124;03mParameters\u001b[39;00m\n\u001b[1;32m   (...)\u001b[0m\n\u001b[0;32m    473\u001b[0m \u001b[38;5;124;03m    Transformed feature names.\u001b[39;00m\n\u001b[0;32m    474\u001b[0m \u001b[38;5;124;03m\"\"\"\u001b[39;00m\n\u001b[0;32m    475\u001b[0m check_is_fitted(\u001b[38;5;28mself\u001b[39m)\n\u001b[1;32m--> 476\u001b[0m input_features \u001b[38;5;241m=\u001b[39m \u001b[43m_check_feature_names_in\u001b[49m\u001b[43m(\u001b[49m\u001b[38;5;28;43mself\u001b[39;49m\u001b[43m,\u001b[49m\u001b[43m \u001b[49m\u001b[43minput_features\u001b[49m\u001b[43m)\u001b[49m\n\u001b[0;32m    478\u001b[0m \u001b[38;5;66;03m# List of tuples (name, feature_names_out)\u001b[39;00m\n\u001b[0;32m    479\u001b[0m transformer_with_feature_names_out \u001b[38;5;241m=\u001b[39m []\n",
      "File \u001b[1;32mC:\\jayvardhan\\lib\\site-packages\\sklearn\\utils\\validation.py:1729\u001b[0m, in \u001b[0;36m_check_feature_names_in\u001b[1;34m(estimator, input_features)\u001b[0m\n\u001b[0;32m   1725\u001b[0m input_features \u001b[38;5;241m=\u001b[39m np\u001b[38;5;241m.\u001b[39masarray(input_features, dtype\u001b[38;5;241m=\u001b[39m\u001b[38;5;28mobject\u001b[39m)\n\u001b[0;32m   1726\u001b[0m \u001b[38;5;28;01mif\u001b[39;00m feature_names_in_ \u001b[38;5;129;01mis\u001b[39;00m \u001b[38;5;129;01mnot\u001b[39;00m \u001b[38;5;28;01mNone\u001b[39;00m \u001b[38;5;129;01mand\u001b[39;00m \u001b[38;5;129;01mnot\u001b[39;00m np\u001b[38;5;241m.\u001b[39marray_equal(\n\u001b[0;32m   1727\u001b[0m     feature_names_in_, input_features\n\u001b[0;32m   1728\u001b[0m ):\n\u001b[1;32m-> 1729\u001b[0m     \u001b[38;5;28;01mraise\u001b[39;00m \u001b[38;5;167;01mValueError\u001b[39;00m(\u001b[38;5;124m\"\u001b[39m\u001b[38;5;124minput_features is not equal to feature_names_in_\u001b[39m\u001b[38;5;124m\"\u001b[39m)\n\u001b[0;32m   1731\u001b[0m \u001b[38;5;28;01mif\u001b[39;00m n_features_in_ \u001b[38;5;129;01mis\u001b[39;00m \u001b[38;5;129;01mnot\u001b[39;00m \u001b[38;5;28;01mNone\u001b[39;00m \u001b[38;5;129;01mand\u001b[39;00m \u001b[38;5;28mlen\u001b[39m(input_features) \u001b[38;5;241m!=\u001b[39m n_features_in_:\n\u001b[0;32m   1732\u001b[0m     \u001b[38;5;28;01mraise\u001b[39;00m \u001b[38;5;167;01mValueError\u001b[39;00m(\n\u001b[0;32m   1733\u001b[0m         \u001b[38;5;124m\"\u001b[39m\u001b[38;5;124minput_features should have length equal to number of \u001b[39m\u001b[38;5;124m\"\u001b[39m\n\u001b[0;32m   1734\u001b[0m         \u001b[38;5;124mf\u001b[39m\u001b[38;5;124m\"\u001b[39m\u001b[38;5;124mfeatures (\u001b[39m\u001b[38;5;132;01m{\u001b[39;00mn_features_in_\u001b[38;5;132;01m}\u001b[39;00m\u001b[38;5;124m), got \u001b[39m\u001b[38;5;132;01m{\u001b[39;00m\u001b[38;5;28mlen\u001b[39m(input_features)\u001b[38;5;132;01m}\u001b[39;00m\u001b[38;5;124m\"\u001b[39m\n\u001b[0;32m   1735\u001b[0m     )\n",
      "\u001b[1;31mValueError\u001b[0m: input_features is not equal to feature_names_in_"
     ]
    }
   ],
   "source": []
  },
  {
   "cell_type": "code",
   "execution_count": 62,
   "id": "79b3d113",
   "metadata": {},
   "outputs": [],
   "source": [
    "from sklearn.linear_model import LinearRegression, Lasso , Ridge \n",
    "from sklearn.neighbors import KNeighborsRegressor\n",
    "from sklearn.tree import DecisionTreeRegressor\n",
    "from sklearn.metrics import mean_absolute_error , r2_score"
   ]
  },
  {
   "cell_type": "code",
   "execution_count": 70,
   "id": "34dfe818",
   "metadata": {},
   "outputs": [
    {
     "ename": "ValueError",
     "evalue": "could not convert string to float: 'Kerala'",
     "output_type": "error",
     "traceback": [
      "\u001b[1;31m---------------------------------------------------------------------------\u001b[0m",
      "\u001b[1;31mValueError\u001b[0m                                Traceback (most recent call last)",
      "Input \u001b[1;32mIn [70]\u001b[0m, in \u001b[0;36m<cell line: 9>\u001b[1;34m()\u001b[0m\n\u001b[0;32m      1\u001b[0m models \u001b[38;5;241m=\u001b[39m {\n\u001b[0;32m      2\u001b[0m     \u001b[38;5;124m'\u001b[39m\u001b[38;5;124mLinear Regression\u001b[39m\u001b[38;5;124m'\u001b[39m : LinearRegression(),\n\u001b[0;32m      3\u001b[0m     \u001b[38;5;124m'\u001b[39m\u001b[38;5;124mLasso\u001b[39m\u001b[38;5;124m'\u001b[39m : Lasso(),\n\u001b[1;32m   (...)\u001b[0m\n\u001b[0;32m      6\u001b[0m     \u001b[38;5;124m'\u001b[39m\u001b[38;5;124mKNN\u001b[39m\u001b[38;5;124m'\u001b[39m : KNeighborsRegressor(),\n\u001b[0;32m      7\u001b[0m }\n\u001b[0;32m      9\u001b[0m \u001b[38;5;28;01mfor\u001b[39;00m name, md \u001b[38;5;129;01min\u001b[39;00m models\u001b[38;5;241m.\u001b[39mitems():\n\u001b[1;32m---> 10\u001b[0m     \u001b[43mmd\u001b[49m\u001b[38;5;241;43m.\u001b[39;49m\u001b[43mfit\u001b[49m\u001b[43m(\u001b[49m\u001b[43mx_train_dummy\u001b[49m\u001b[43m,\u001b[49m\u001b[43m \u001b[49m\u001b[43my_train\u001b[49m\u001b[43m)\u001b[49m\n\u001b[0;32m     11\u001b[0m     y_pred \u001b[38;5;241m=\u001b[39m md\u001b[38;5;241m.\u001b[39mpredict(x_test_dummy)\n\u001b[0;32m     12\u001b[0m     \u001b[38;5;28mprint\u001b[39m(mean_absolute_error(y_test,y_pred))\n",
      "File \u001b[1;32mC:\\jayvardhan\\lib\\site-packages\\sklearn\\linear_model\\_base.py:662\u001b[0m, in \u001b[0;36mLinearRegression.fit\u001b[1;34m(self, X, y, sample_weight)\u001b[0m\n\u001b[0;32m    658\u001b[0m n_jobs_ \u001b[38;5;241m=\u001b[39m \u001b[38;5;28mself\u001b[39m\u001b[38;5;241m.\u001b[39mn_jobs\n\u001b[0;32m    660\u001b[0m accept_sparse \u001b[38;5;241m=\u001b[39m \u001b[38;5;28;01mFalse\u001b[39;00m \u001b[38;5;28;01mif\u001b[39;00m \u001b[38;5;28mself\u001b[39m\u001b[38;5;241m.\u001b[39mpositive \u001b[38;5;28;01melse\u001b[39;00m [\u001b[38;5;124m\"\u001b[39m\u001b[38;5;124mcsr\u001b[39m\u001b[38;5;124m\"\u001b[39m, \u001b[38;5;124m\"\u001b[39m\u001b[38;5;124mcsc\u001b[39m\u001b[38;5;124m\"\u001b[39m, \u001b[38;5;124m\"\u001b[39m\u001b[38;5;124mcoo\u001b[39m\u001b[38;5;124m\"\u001b[39m]\n\u001b[1;32m--> 662\u001b[0m X, y \u001b[38;5;241m=\u001b[39m \u001b[38;5;28;43mself\u001b[39;49m\u001b[38;5;241;43m.\u001b[39;49m\u001b[43m_validate_data\u001b[49m\u001b[43m(\u001b[49m\n\u001b[0;32m    663\u001b[0m \u001b[43m    \u001b[49m\u001b[43mX\u001b[49m\u001b[43m,\u001b[49m\u001b[43m \u001b[49m\u001b[43my\u001b[49m\u001b[43m,\u001b[49m\u001b[43m \u001b[49m\u001b[43maccept_sparse\u001b[49m\u001b[38;5;241;43m=\u001b[39;49m\u001b[43maccept_sparse\u001b[49m\u001b[43m,\u001b[49m\u001b[43m \u001b[49m\u001b[43my_numeric\u001b[49m\u001b[38;5;241;43m=\u001b[39;49m\u001b[38;5;28;43;01mTrue\u001b[39;49;00m\u001b[43m,\u001b[49m\u001b[43m \u001b[49m\u001b[43mmulti_output\u001b[49m\u001b[38;5;241;43m=\u001b[39;49m\u001b[38;5;28;43;01mTrue\u001b[39;49;00m\n\u001b[0;32m    664\u001b[0m \u001b[43m\u001b[49m\u001b[43m)\u001b[49m\n\u001b[0;32m    666\u001b[0m \u001b[38;5;28;01mif\u001b[39;00m sample_weight \u001b[38;5;129;01mis\u001b[39;00m \u001b[38;5;129;01mnot\u001b[39;00m \u001b[38;5;28;01mNone\u001b[39;00m:\n\u001b[0;32m    667\u001b[0m     sample_weight \u001b[38;5;241m=\u001b[39m _check_sample_weight(sample_weight, X, dtype\u001b[38;5;241m=\u001b[39mX\u001b[38;5;241m.\u001b[39mdtype)\n",
      "File \u001b[1;32mC:\\jayvardhan\\lib\\site-packages\\sklearn\\base.py:581\u001b[0m, in \u001b[0;36mBaseEstimator._validate_data\u001b[1;34m(self, X, y, reset, validate_separately, **check_params)\u001b[0m\n\u001b[0;32m    579\u001b[0m         y \u001b[38;5;241m=\u001b[39m check_array(y, \u001b[38;5;241m*\u001b[39m\u001b[38;5;241m*\u001b[39mcheck_y_params)\n\u001b[0;32m    580\u001b[0m     \u001b[38;5;28;01melse\u001b[39;00m:\n\u001b[1;32m--> 581\u001b[0m         X, y \u001b[38;5;241m=\u001b[39m check_X_y(X, y, \u001b[38;5;241m*\u001b[39m\u001b[38;5;241m*\u001b[39mcheck_params)\n\u001b[0;32m    582\u001b[0m     out \u001b[38;5;241m=\u001b[39m X, y\n\u001b[0;32m    584\u001b[0m \u001b[38;5;28;01mif\u001b[39;00m \u001b[38;5;129;01mnot\u001b[39;00m no_val_X \u001b[38;5;129;01mand\u001b[39;00m check_params\u001b[38;5;241m.\u001b[39mget(\u001b[38;5;124m\"\u001b[39m\u001b[38;5;124mensure_2d\u001b[39m\u001b[38;5;124m\"\u001b[39m, \u001b[38;5;28;01mTrue\u001b[39;00m):\n",
      "File \u001b[1;32mC:\\jayvardhan\\lib\\site-packages\\sklearn\\utils\\validation.py:964\u001b[0m, in \u001b[0;36mcheck_X_y\u001b[1;34m(X, y, accept_sparse, accept_large_sparse, dtype, order, copy, force_all_finite, ensure_2d, allow_nd, multi_output, ensure_min_samples, ensure_min_features, y_numeric, estimator)\u001b[0m\n\u001b[0;32m    961\u001b[0m \u001b[38;5;28;01mif\u001b[39;00m y \u001b[38;5;129;01mis\u001b[39;00m \u001b[38;5;28;01mNone\u001b[39;00m:\n\u001b[0;32m    962\u001b[0m     \u001b[38;5;28;01mraise\u001b[39;00m \u001b[38;5;167;01mValueError\u001b[39;00m(\u001b[38;5;124m\"\u001b[39m\u001b[38;5;124my cannot be None\u001b[39m\u001b[38;5;124m\"\u001b[39m)\n\u001b[1;32m--> 964\u001b[0m X \u001b[38;5;241m=\u001b[39m \u001b[43mcheck_array\u001b[49m\u001b[43m(\u001b[49m\n\u001b[0;32m    965\u001b[0m \u001b[43m    \u001b[49m\u001b[43mX\u001b[49m\u001b[43m,\u001b[49m\n\u001b[0;32m    966\u001b[0m \u001b[43m    \u001b[49m\u001b[43maccept_sparse\u001b[49m\u001b[38;5;241;43m=\u001b[39;49m\u001b[43maccept_sparse\u001b[49m\u001b[43m,\u001b[49m\n\u001b[0;32m    967\u001b[0m \u001b[43m    \u001b[49m\u001b[43maccept_large_sparse\u001b[49m\u001b[38;5;241;43m=\u001b[39;49m\u001b[43maccept_large_sparse\u001b[49m\u001b[43m,\u001b[49m\n\u001b[0;32m    968\u001b[0m \u001b[43m    \u001b[49m\u001b[43mdtype\u001b[49m\u001b[38;5;241;43m=\u001b[39;49m\u001b[43mdtype\u001b[49m\u001b[43m,\u001b[49m\n\u001b[0;32m    969\u001b[0m \u001b[43m    \u001b[49m\u001b[43morder\u001b[49m\u001b[38;5;241;43m=\u001b[39;49m\u001b[43morder\u001b[49m\u001b[43m,\u001b[49m\n\u001b[0;32m    970\u001b[0m \u001b[43m    \u001b[49m\u001b[43mcopy\u001b[49m\u001b[38;5;241;43m=\u001b[39;49m\u001b[43mcopy\u001b[49m\u001b[43m,\u001b[49m\n\u001b[0;32m    971\u001b[0m \u001b[43m    \u001b[49m\u001b[43mforce_all_finite\u001b[49m\u001b[38;5;241;43m=\u001b[39;49m\u001b[43mforce_all_finite\u001b[49m\u001b[43m,\u001b[49m\n\u001b[0;32m    972\u001b[0m \u001b[43m    \u001b[49m\u001b[43mensure_2d\u001b[49m\u001b[38;5;241;43m=\u001b[39;49m\u001b[43mensure_2d\u001b[49m\u001b[43m,\u001b[49m\n\u001b[0;32m    973\u001b[0m \u001b[43m    \u001b[49m\u001b[43mallow_nd\u001b[49m\u001b[38;5;241;43m=\u001b[39;49m\u001b[43mallow_nd\u001b[49m\u001b[43m,\u001b[49m\n\u001b[0;32m    974\u001b[0m \u001b[43m    \u001b[49m\u001b[43mensure_min_samples\u001b[49m\u001b[38;5;241;43m=\u001b[39;49m\u001b[43mensure_min_samples\u001b[49m\u001b[43m,\u001b[49m\n\u001b[0;32m    975\u001b[0m \u001b[43m    \u001b[49m\u001b[43mensure_min_features\u001b[49m\u001b[38;5;241;43m=\u001b[39;49m\u001b[43mensure_min_features\u001b[49m\u001b[43m,\u001b[49m\n\u001b[0;32m    976\u001b[0m \u001b[43m    \u001b[49m\u001b[43mestimator\u001b[49m\u001b[38;5;241;43m=\u001b[39;49m\u001b[43mestimator\u001b[49m\u001b[43m,\u001b[49m\n\u001b[0;32m    977\u001b[0m \u001b[43m\u001b[49m\u001b[43m)\u001b[49m\n\u001b[0;32m    979\u001b[0m y \u001b[38;5;241m=\u001b[39m _check_y(y, multi_output\u001b[38;5;241m=\u001b[39mmulti_output, y_numeric\u001b[38;5;241m=\u001b[39my_numeric)\n\u001b[0;32m    981\u001b[0m check_consistent_length(X, y)\n",
      "File \u001b[1;32mC:\\jayvardhan\\lib\\site-packages\\sklearn\\utils\\validation.py:746\u001b[0m, in \u001b[0;36mcheck_array\u001b[1;34m(array, accept_sparse, accept_large_sparse, dtype, order, copy, force_all_finite, ensure_2d, allow_nd, ensure_min_samples, ensure_min_features, estimator)\u001b[0m\n\u001b[0;32m    744\u001b[0m         array \u001b[38;5;241m=\u001b[39m array\u001b[38;5;241m.\u001b[39mastype(dtype, casting\u001b[38;5;241m=\u001b[39m\u001b[38;5;124m\"\u001b[39m\u001b[38;5;124munsafe\u001b[39m\u001b[38;5;124m\"\u001b[39m, copy\u001b[38;5;241m=\u001b[39m\u001b[38;5;28;01mFalse\u001b[39;00m)\n\u001b[0;32m    745\u001b[0m     \u001b[38;5;28;01melse\u001b[39;00m:\n\u001b[1;32m--> 746\u001b[0m         array \u001b[38;5;241m=\u001b[39m \u001b[43mnp\u001b[49m\u001b[38;5;241;43m.\u001b[39;49m\u001b[43masarray\u001b[49m\u001b[43m(\u001b[49m\u001b[43marray\u001b[49m\u001b[43m,\u001b[49m\u001b[43m \u001b[49m\u001b[43morder\u001b[49m\u001b[38;5;241;43m=\u001b[39;49m\u001b[43morder\u001b[49m\u001b[43m,\u001b[49m\u001b[43m \u001b[49m\u001b[43mdtype\u001b[49m\u001b[38;5;241;43m=\u001b[39;49m\u001b[43mdtype\u001b[49m\u001b[43m)\u001b[49m\n\u001b[0;32m    747\u001b[0m \u001b[38;5;28;01mexcept\u001b[39;00m ComplexWarning \u001b[38;5;28;01mas\u001b[39;00m complex_warning:\n\u001b[0;32m    748\u001b[0m     \u001b[38;5;28;01mraise\u001b[39;00m \u001b[38;5;167;01mValueError\u001b[39;00m(\n\u001b[0;32m    749\u001b[0m         \u001b[38;5;124m\"\u001b[39m\u001b[38;5;124mComplex data not supported\u001b[39m\u001b[38;5;130;01m\\n\u001b[39;00m\u001b[38;5;132;01m{}\u001b[39;00m\u001b[38;5;130;01m\\n\u001b[39;00m\u001b[38;5;124m\"\u001b[39m\u001b[38;5;241m.\u001b[39mformat(array)\n\u001b[0;32m    750\u001b[0m     ) \u001b[38;5;28;01mfrom\u001b[39;00m \u001b[38;5;21;01mcomplex_warning\u001b[39;00m\n",
      "\u001b[1;31mValueError\u001b[0m: could not convert string to float: 'Kerala'"
     ]
    }
   ],
   "source": [
    "models = {\n",
    "    'Linear Regression' : LinearRegression(),\n",
    "    'Lasso' : Lasso(),\n",
    "    'Ridge' : Ridge(),\n",
    "    'Decision Tree' : DecisionTreeRegressor(),\n",
    "    'KNN' : KNeighborsRegressor(),\n",
    "}\n",
    "\n",
    "for name, md in models.items():\n",
    "    md.fit(x_train_dummy, y_train)\n",
    "    y_pred = md.predict(x_test_dummy)\n",
    "    print(mean_absolute_error(y_test,y_pred))\n",
    "    print(r2_score(y_test,y_pred))"
   ]
  },
  {
   "cell_type": "code",
   "execution_count": 71,
   "id": "f0991c0f",
   "metadata": {},
   "outputs": [],
   "source": [
    "#Predictive System"
   ]
  },
  {
   "cell_type": "code",
   "execution_count": 76,
   "id": "55c9b407",
   "metadata": {},
   "outputs": [],
   "source": [
    "def prediction(STATE, SOIL_TYPE, TEMPERATURE, ph, RAINFALL, CROP_PRICE,CROP):\n",
    "    features = np.array([[STATE, SOIL_TYPE, TEMPERATURE, ph, RAINFALL, CROP_PRICE,CROP]], dtype=object)\n",
    "    transform_features = preprocesser.transform(features)\n",
    "    predicted_crop_price = dtr.predict(transform_features).reshape(-1,1)\n",
    "    return predicted_crop_price[0][0]"
   ]
  },
  {
   "cell_type": "code",
   "execution_count": 73,
   "id": "94ad285b",
   "metadata": {},
   "outputs": [
    {
     "data": {
      "text/html": [
       "<div>\n",
       "<style scoped>\n",
       "    .dataframe tbody tr th:only-of-type {\n",
       "        vertical-align: middle;\n",
       "    }\n",
       "\n",
       "    .dataframe tbody tr th {\n",
       "        vertical-align: top;\n",
       "    }\n",
       "\n",
       "    .dataframe thead th {\n",
       "        text-align: right;\n",
       "    }\n",
       "</style>\n",
       "<table border=\"1\" class=\"dataframe\">\n",
       "  <thead>\n",
       "    <tr style=\"text-align: right;\">\n",
       "      <th></th>\n",
       "      <th>STATE</th>\n",
       "      <th>SOIL_TYPE</th>\n",
       "      <th>TEMPERATURE</th>\n",
       "      <th>ph</th>\n",
       "      <th>RAINFALL</th>\n",
       "      <th>CROP_PRICE</th>\n",
       "      <th>CROP</th>\n",
       "    </tr>\n",
       "  </thead>\n",
       "  <tbody>\n",
       "    <tr>\n",
       "      <th>0</th>\n",
       "      <td>Andaman and Nicobar</td>\n",
       "      <td>Sandy soil</td>\n",
       "      <td>20.879744</td>\n",
       "      <td>6.502985</td>\n",
       "      <td>202.935536</td>\n",
       "      <td>7000</td>\n",
       "      <td>Amaranthus</td>\n",
       "    </tr>\n",
       "    <tr>\n",
       "      <th>1</th>\n",
       "      <td>Andaman and Nicobar</td>\n",
       "      <td>Sandy soil</td>\n",
       "      <td>21.770462</td>\n",
       "      <td>7.038096</td>\n",
       "      <td>226.655537</td>\n",
       "      <td>5000</td>\n",
       "      <td>Green Banana</td>\n",
       "    </tr>\n",
       "    <tr>\n",
       "      <th>2</th>\n",
       "      <td>Andaman and Nicobar</td>\n",
       "      <td>Sandy soil</td>\n",
       "      <td>23.004459</td>\n",
       "      <td>7.840207</td>\n",
       "      <td>263.964248</td>\n",
       "      <td>7000</td>\n",
       "      <td>Ladies Finger</td>\n",
       "    </tr>\n",
       "    <tr>\n",
       "      <th>3</th>\n",
       "      <td>Andaman and Nicobar</td>\n",
       "      <td>Sandy soil</td>\n",
       "      <td>26.491096</td>\n",
       "      <td>6.980401</td>\n",
       "      <td>242.864034</td>\n",
       "      <td>7000</td>\n",
       "      <td>Bitter Gourd</td>\n",
       "    </tr>\n",
       "    <tr>\n",
       "      <th>4</th>\n",
       "      <td>Andaman and Nicobar</td>\n",
       "      <td>Sandy soil</td>\n",
       "      <td>20.130175</td>\n",
       "      <td>7.628473</td>\n",
       "      <td>262.717340</td>\n",
       "      <td>120000</td>\n",
       "      <td>Black pepper</td>\n",
       "    </tr>\n",
       "  </tbody>\n",
       "</table>\n",
       "</div>"
      ],
      "text/plain": [
       "                 STATE   SOIL_TYPE  TEMPERATURE        ph    RAINFALL  \\\n",
       "0  Andaman and Nicobar  Sandy soil    20.879744  6.502985  202.935536   \n",
       "1  Andaman and Nicobar  Sandy soil    21.770462  7.038096  226.655537   \n",
       "2  Andaman and Nicobar  Sandy soil    23.004459  7.840207  263.964248   \n",
       "3  Andaman and Nicobar  Sandy soil    26.491096  6.980401  242.864034   \n",
       "4  Andaman and Nicobar  Sandy soil    20.130175  7.628473  262.717340   \n",
       "\n",
       "   CROP_PRICE           CROP  \n",
       "0        7000     Amaranthus  \n",
       "1        5000   Green Banana  \n",
       "2        7000  Ladies Finger  \n",
       "3        7000   Bitter Gourd  \n",
       "4      120000   Black pepper  "
      ]
     },
     "execution_count": 73,
     "metadata": {},
     "output_type": "execute_result"
    }
   ],
   "source": [
    "df.head()"
   ]
  },
  {
   "cell_type": "code",
   "execution_count": 79,
   "id": "aaa5aa83",
   "metadata": {},
   "outputs": [
    {
     "ename": "TypeError",
     "evalue": "prediction() missing 1 required positional argument: 'CROP'",
     "output_type": "error",
     "traceback": [
      "\u001b[1;31m---------------------------------------------------------------------------\u001b[0m",
      "\u001b[1;31mTypeError\u001b[0m                                 Traceback (most recent call last)",
      "Input \u001b[1;32mIn [79]\u001b[0m, in \u001b[0;36m<cell line: 1>\u001b[1;34m()\u001b[0m\n\u001b[1;32m----> 1\u001b[0m result \u001b[38;5;241m=\u001b[39m \u001b[43mprediction\u001b[49m\u001b[43m(\u001b[49m\u001b[38;5;124;43m\"\u001b[39;49m\u001b[38;5;124;43mAndaman and Nicobar\u001b[39;49m\u001b[38;5;124;43m\"\u001b[39;49m\u001b[43m,\u001b[49m\u001b[43m \u001b[49m\u001b[38;5;124;43m\"\u001b[39;49m\u001b[38;5;124;43mSandy soil\u001b[39;49m\u001b[38;5;124;43m\"\u001b[39;49m\u001b[43m,\u001b[49m\u001b[38;5;241;43m20.879744\u001b[39;49m\u001b[43m,\u001b[49m\u001b[38;5;241;43m6.502985\u001b[39;49m\u001b[43m,\u001b[49m\u001b[38;5;241;43m202.935536\u001b[39;49m\u001b[43m,\u001b[49m\u001b[38;5;241;43m7000\u001b[39;49m\u001b[43m)\u001b[49m\n",
      "\u001b[1;31mTypeError\u001b[0m: prediction() missing 1 required positional argument: 'CROP'"
     ]
    }
   ],
   "source": [
    "result = prediction(\"Andaman and Nicobar\", \"Sandy soil\",20.879744,6.502985,202.935536,7000)"
   ]
  },
  {
   "cell_type": "code",
   "execution_count": null,
   "id": "83f56322",
   "metadata": {},
   "outputs": [],
   "source": []
  }
 ],
 "metadata": {
  "kernelspec": {
   "display_name": "Python 3 (ipykernel)",
   "language": "python",
   "name": "python3"
  },
  "language_info": {
   "codemirror_mode": {
    "name": "ipython",
    "version": 3
   },
   "file_extension": ".py",
   "mimetype": "text/x-python",
   "name": "python",
   "nbconvert_exporter": "python",
   "pygments_lexer": "ipython3",
   "version": "3.9.12"
  }
 },
 "nbformat": 4,
 "nbformat_minor": 5
}
